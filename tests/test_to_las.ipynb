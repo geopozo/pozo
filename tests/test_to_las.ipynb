{
 "cells": [
  {
   "cell_type": "code",
   "execution_count": 1,
   "metadata": {},
   "outputs": [
    {
     "data": {
      "application/javascript": [
       "var css = '.plot-container { overflow: auto; }',\n",
       "head = document.getElementsByTagName('head')[0],\n",
       "style = document.createElement('style');\n",
       "\n",
       "style.type = 'text/css';\n",
       "if (style.styleSheet){\n",
       "  style.styleSheet.cssText = css;\n",
       "} else {\n",
       "  style.appendChild(document.createTextNode(css));\n",
       "}\n",
       "console.log(\"Executed javascript()\")\n",
       "head.appendChild(style);"
      ],
      "text/plain": [
       "<IPython.core.display.Javascript object>"
      ]
     },
     "metadata": {},
     "output_type": "display_data"
    }
   ],
   "source": [
    "import lasio\n",
    "import pozo"
   ]
  },
  {
   "cell_type": "code",
   "execution_count": 2,
   "metadata": {},
   "outputs": [],
   "source": [
    "las = lasio.read(\"https://raw.githubusercontent.com/geopozo/pozo-demo/main/SALADIN.LAS\")"
   ]
  },
  {
   "cell_type": "code",
   "execution_count": 3,
   "metadata": {},
   "outputs": [
    {
     "data": {
      "application/javascript": [
       "var css = '.plot-container { overflow: auto; }',\n",
       "head = document.getElementsByTagName('head')[0],\n",
       "style = document.createElement('style');\n",
       "\n",
       "style.type = 'text/css';\n",
       "if (style.styleSheet){\n",
       "  style.styleSheet.cssText = css;\n",
       "} else {\n",
       "  style.appendChild(document.createTextNode(css));\n",
       "}\n",
       "console.log(\"Executed javascript()\")\n",
       "head.appendChild(style);"
      ],
      "text/plain": [
       "<IPython.core.display.Javascript object>"
      ]
     },
     "metadata": {},
     "output_type": "display_data"
    }
   ],
   "source": [
    "include = [\"GR\", \"CALI\", \"CGR\", \"LLS\", \"ILM\", \"ILD\", \"LLD\", \"NPHI\", \"RHOB\", \"DT\"]\n",
    "graph1 = pozo.Graph(las,  yaxis_name=\"DEPT:1\", include=include) \n",
    "graph1.combine_tracks(\"CGR\", \"CALI\")\n",
    "graph1.combine_tracks(\"LLD\",\"ILD\",\"ILM\",\"LLS\") \n",
    "graph1.combine_tracks(\"RHOB\", \"NPHI\")"
   ]
  },
  {
   "cell_type": "code",
   "execution_count": 4,
   "metadata": {},
   "outputs": [
    {
     "name": "stdout",
     "output_type": "stream",
     "text": [
      "Found\n"
     ]
    },
    {
     "data": {
      "text/plain": [
       "[CurveItem(mnemonic=\"LLD\", unit=\"OHMM\", value=\"\", descr=\"10  Laterolog Deep Resistivity\", original_mnemonic=\"LLD\", data.shape=(12022,))]"
      ]
     },
     "execution_count": 4,
     "metadata": {},
     "output_type": "execute_result"
    }
   ],
   "source": [
    "graph1.to_las_CurveItem(\"LLD\")"
   ]
  },
  {
   "cell_type": "code",
   "execution_count": null,
   "metadata": {},
   "outputs": [],
   "source": []
  },
  {
   "cell_type": "code",
   "execution_count": 5,
   "metadata": {},
   "outputs": [
    {
     "ename": "AttributeError",
     "evalue": "'Graph' object has no attribute 'to_las_CurveItems'",
     "output_type": "error",
     "traceback": [
      "\u001b[0;31m---------------------------------------------------------------------------\u001b[0m",
      "\u001b[0;31mAttributeError\u001b[0m                            Traceback (most recent call last)",
      "Cell \u001b[0;32mIn[5], line 1\u001b[0m\n\u001b[0;32m----> 1\u001b[0m test_1 \u001b[38;5;241m=\u001b[39m \u001b[43mgraph1\u001b[49m\u001b[38;5;241;43m.\u001b[39;49m\u001b[43mto_las_CurveItems\u001b[49m(\u001b[38;5;124m\"\u001b[39m\u001b[38;5;124mDT\u001b[39m\u001b[38;5;124m\"\u001b[39m, \u001b[38;5;124m\"\u001b[39m\u001b[38;5;124mGR\u001b[39m\u001b[38;5;124m\"\u001b[39m, description\u001b[38;5;241m=\u001b[39m[\u001b[38;5;124m\"\u001b[39m\u001b[38;5;124m6  Delta T\u001b[39m\u001b[38;5;124m\"\u001b[39m, \u001b[38;5;124m\"\u001b[39m\u001b[38;5;124m7  Gamma-Ray Log\u001b[39m\u001b[38;5;124m\"\u001b[39m], units\u001b[38;5;241m=\u001b[39m[\u001b[38;5;124m\"\u001b[39m\u001b[38;5;124mmicrosecond / foot\u001b[39m\u001b[38;5;124m\"\u001b[39m, \u001b[38;5;124m\"\u001b[39m\u001b[38;5;124mgamma_API_unit\u001b[39m\u001b[38;5;124m\"\u001b[39m])\n",
      "\u001b[0;31mAttributeError\u001b[0m: 'Graph' object has no attribute 'to_las_CurveItems'"
     ]
    }
   ],
   "source": [
    "test_1 = graph1.to_las_CurveItems(\"DT\", \"GR\", description=[\"6  Delta T\", \"7  Gamma-Ray Log\"], units=[\"microsecond / foot\", \"gamma_API_unit\"])"
   ]
  },
  {
   "cell_type": "code",
   "execution_count": null,
   "metadata": {},
   "outputs": [],
   "source": [
    "test_1"
   ]
  },
  {
   "cell_type": "code",
   "execution_count": null,
   "metadata": {},
   "outputs": [],
   "source": [
    "test_2 = graph1.to_las_CurveItems()"
   ]
  },
  {
   "cell_type": "code",
   "execution_count": null,
   "metadata": {},
   "outputs": [],
   "source": [
    "test_2"
   ]
  },
  {
   "cell_type": "code",
   "execution_count": null,
   "metadata": {},
   "outputs": [],
   "source": [
    "test_las_1 = graph1.to_las()"
   ]
  },
  {
   "cell_type": "code",
   "execution_count": null,
   "metadata": {},
   "outputs": [],
   "source": [
    "test_las_1.curves"
   ]
  },
  {
   "cell_type": "code",
   "execution_count": null,
   "metadata": {},
   "outputs": [],
   "source": [
    "las_1 = lasio.read(r\"C:\\Users\\neybe\\Desktop\\Pozo\\pozo-py\\tests\\data\\SALADIN.LAS\")"
   ]
  },
  {
   "cell_type": "code",
   "execution_count": null,
   "metadata": {},
   "outputs": [],
   "source": [
    "test_las_1 = graph1.to_las(template=las_1, strategy=\"merge\")"
   ]
  },
  {
   "cell_type": "code",
   "execution_count": null,
   "metadata": {},
   "outputs": [],
   "source": [
    "test_las_1.curves"
   ]
  },
  {
   "cell_type": "code",
   "execution_count": null,
   "metadata": {},
   "outputs": [],
   "source": [
    "las_2 = lasio.read(r\"C:\\Users\\neybe\\Desktop\\Pozo\\pozo-py\\tests\\data\\SALADIN.LAS\")"
   ]
  },
  {
   "cell_type": "code",
   "execution_count": null,
   "metadata": {},
   "outputs": [],
   "source": [
    "test_las_2 = graph1.to_las(template=las_2, strategy=\"add\")"
   ]
  },
  {
   "cell_type": "code",
   "execution_count": null,
   "metadata": {},
   "outputs": [],
   "source": [
    "test_las_2.curves"
   ]
  },
  {
   "cell_type": "code",
   "execution_count": null,
   "metadata": {},
   "outputs": [],
   "source": [
    "las_3 = lasio.read(r\"C:\\Users\\neybe\\Desktop\\Pozo\\pozo-py\\tests\\data\\SALADIN.LAS\")\n",
    "include = [\"GR\", \"CALI\", \"CGR\", \"LLS\", \"ILM\", \"ILD\", \"LLD\", \"NPHI\", \"RHOB\", \"DT\"]\n",
    "graph_2 = pozo.Graph(las_3,  yaxis_name=\"DEPT:1\", include=include)\n",
    "graph_2.original_data = las_3"
   ]
  },
  {
   "cell_type": "code",
   "execution_count": null,
   "metadata": {},
   "outputs": [],
   "source": [
    "for methods in vsh_methods.keys():\n",
    "    graph_2.add_tracks(pzm.VSH.create_vsh_track(graph1, method=methods, from_log=\"CGR\"))"
   ]
  },
  {
   "cell_type": "code",
   "execution_count": null,
   "metadata": {},
   "outputs": [],
   "source": [
    "test_3 = graph_2.to_las_CurveItems(\"GR\")"
   ]
  },
  {
   "cell_type": "code",
   "execution_count": null,
   "metadata": {},
   "outputs": [],
   "source": [
    "test_3"
   ]
  },
  {
   "cell_type": "code",
   "execution_count": null,
   "metadata": {},
   "outputs": [],
   "source": [
    "test_las_3 = graph_2.to_las(strategy=\"merge\")"
   ]
  },
  {
   "cell_type": "code",
   "execution_count": null,
   "metadata": {},
   "outputs": [],
   "source": [
    "test_las_3.curves"
   ]
  },
  {
   "cell_type": "code",
   "execution_count": null,
   "metadata": {},
   "outputs": [],
   "source": [
    "test_las_4 = graph_2.to_las(strategy=\"add\")"
   ]
  },
  {
   "cell_type": "code",
   "execution_count": null,
   "metadata": {},
   "outputs": [],
   "source": [
    "test_las_4.curves"
   ]
  }
 ],
 "metadata": {
  "kernelspec": {
   "display_name": "fft_sandbox",
   "language": "python",
   "name": "fft_sandbox"
  },
  "language_info": {
   "codemirror_mode": {
    "name": "ipython",
    "version": 3
   },
   "file_extension": ".py",
   "mimetype": "text/x-python",
   "name": "python",
   "nbconvert_exporter": "python",
   "pygments_lexer": "ipython3",
   "version": "3.11.8"
  }
 },
 "nbformat": 4,
 "nbformat_minor": 4
}
