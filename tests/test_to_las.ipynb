{
 "cells": [
  {
   "cell_type": "code",
   "execution_count": 1,
   "metadata": {},
   "outputs": [
    {
     "data": {
      "application/javascript": [
       "var css = '.plot-container { overflow: auto; }',\n",
       "head = document.getElementsByTagName('head')[0],\n",
       "style = document.createElement('style');\n",
       "\n",
       "style.type = 'text/css';\n",
       "if (style.styleSheet){\n",
       "  style.styleSheet.cssText = css;\n",
       "} else {\n",
       "  style.appendChild(document.createTextNode(css));\n",
       "}\n",
       "console.log(\"Executed javascript()\")\n",
       "head.appendChild(style);"
      ],
      "text/plain": [
       "<IPython.core.display.Javascript object>"
      ]
     },
     "metadata": {},
     "output_type": "display_data"
    }
   ],
   "source": [
    "import lasio\n",
    "import pozo\n",
    "import numpy as np"
   ]
  },
  {
   "cell_type": "code",
   "execution_count": 2,
   "metadata": {},
   "outputs": [],
   "source": [
    "las = lasio.read(\"https://raw.githubusercontent.com/geopozo/pozo-demo/main/SALADIN.LAS\")"
   ]
  },
  {
   "cell_type": "code",
   "execution_count": 3,
   "metadata": {},
   "outputs": [
    {
     "data": {
      "application/javascript": [
       "var css = '.plot-container { overflow: auto; }',\n",
       "head = document.getElementsByTagName('head')[0],\n",
       "style = document.createElement('style');\n",
       "\n",
       "style.type = 'text/css';\n",
       "if (style.styleSheet){\n",
       "  style.styleSheet.cssText = css;\n",
       "} else {\n",
       "  style.appendChild(document.createTextNode(css));\n",
       "}\n",
       "console.log(\"Executed javascript()\")\n",
       "head.appendChild(style);"
      ],
      "text/plain": [
       "<IPython.core.display.Javascript object>"
      ]
     },
     "metadata": {},
     "output_type": "display_data"
    },
    {
     "data": {
      "text/plain": [
       "[<pozo.tracks.Track at 0x7e3ea4341450>]"
      ]
     },
     "execution_count": 3,
     "metadata": {},
     "output_type": "execute_result"
    }
   ],
   "source": [
    "include = [\"GR\", \"CALI\", \"CGR\", \"LLS\", \"ILM\", \"ILD\", \"LLD\", \"NPHI\", \"RHOB\", \"DT\"]\n",
    "graph1 = pozo.Graph(las,  yaxis_name=\"DEPT:1\", include=include) \n",
    "graph1.combine_tracks(\"CGR\", \"CALI\")\n",
    "graph1.combine_tracks(\"LLD\",\"ILD\",\"ILM\",\"LLS\") \n",
    "graph1.combine_tracks(\"RHOB\", \"NPHI\")\n",
    "new_data = np.ones(len(graph1.get_trace(0).get_depth()))\n",
    "graph1.add_tracks(pozo.Trace(new_data, unit=\"ohm\", depth=graph1.get_trace(0).get_depth(), depth_unit=graph1.get_trace(0).get_depth_unit(), mnemonic=\"TEST\"))"
   ]
  },
  {
   "cell_type": "code",
   "execution_count": 4,
   "metadata": {},
   "outputs": [
    {
     "data": {
      "text/plain": [
       "[CurveItem(mnemonic=\"LLD\", unit=\"OHMM\", value=\"\", descr=\"Laterolog Deep Resistivity\", original_mnemonic=\"LLD\", data.shape=(12022,))]"
      ]
     },
     "execution_count": 4,
     "metadata": {},
     "output_type": "execute_result"
    }
   ],
   "source": [
    "graph1.to_las_CurveItems(\"LLD\")"
   ]
  },
  {
   "cell_type": "code",
   "execution_count": 5,
   "metadata": {},
   "outputs": [
    {
     "data": {
      "text/plain": [
       "[CurveItem(mnemonic=\"GR\", unit=\"MICROSECOND / FOOT\", value=\"\", descr=\"Gamma-Ray Log\", original_mnemonic=\"GR\", data.shape=(12022,)),\n",
       " CurveItem(mnemonic=\"DT\", unit=\"GAMMA_API_UNIT\", value=\"\", descr=\"Delta T\", original_mnemonic=\"DT\", data.shape=(12022,))]"
      ]
     },
     "execution_count": 5,
     "metadata": {},
     "output_type": "execute_result"
    }
   ],
   "source": [
    "graph1.to_las_CurveItems(\"DT\", \"GR\", description=[\"6  Delta T\", \"7  Gamma-Ray Log\"], units=[\"microsecond / foot\", \"gamma_API_unit\"])"
   ]
  },
  {
   "cell_type": "code",
   "execution_count": 6,
   "metadata": {},
   "outputs": [
    {
     "data": {
      "text/plain": [
       "[CurveItem(mnemonic=\"GR\", unit=\"GAPI\", value=\"\", descr=\"Gamma-Ray Log\", original_mnemonic=\"GR\", data.shape=(12022,)),\n",
       " CurveItem(mnemonic=\"CGR\", unit=\"GAPI\", value=\"\", descr=\"Computed Gamma-Ray (Thorium + Potassium)\", original_mnemonic=\"CGR\", data.shape=(12022,)),\n",
       " CurveItem(mnemonic=\"CALI\", unit=\"CM\", value=\"\", descr=\"Caliper Log\", original_mnemonic=\"CALI\", data.shape=(12022,)),\n",
       " CurveItem(mnemonic=\"LLD\", unit=\"OHMM\", value=\"\", descr=\"Laterolog Deep Resistivity\", original_mnemonic=\"LLD\", data.shape=(12022,)),\n",
       " CurveItem(mnemonic=\"ILD\", unit=\"OHMM\", value=\"\", descr=\"Induction Deep Resistivity\", original_mnemonic=\"ILD\", data.shape=(12022,)),\n",
       " CurveItem(mnemonic=\"ILM\", unit=\"OHMM\", value=\"\", descr=\"Medium Induction Log\", original_mnemonic=\"ILM\", data.shape=(12022,)),\n",
       " CurveItem(mnemonic=\"LLS\", unit=\"OHMM\", value=\"\", descr=\"Shallow Laterolog\", original_mnemonic=\"LLS\", data.shape=(12022,)),\n",
       " CurveItem(mnemonic=\"RHOB\", unit=\"G/C3\", value=\"\", descr=\"Compensated Formation Density Log\", original_mnemonic=\"RHOB\", data.shape=(12022,)),\n",
       " CurveItem(mnemonic=\"NPHI\", unit=\"PU%\", value=\"\", descr=\"Neutron Log Porosity\", original_mnemonic=\"NPHI\", data.shape=(12022,)),\n",
       " CurveItem(mnemonic=\"DT\", unit=\"US/F\", value=\"\", descr=\"Delta T\", original_mnemonic=\"DT\", data.shape=(12022,)),\n",
       " CurveItem(mnemonic=\"TEST\", unit=\"OHM\", value=\"\", descr=\"\", original_mnemonic=\"TEST\", data.shape=(12022,))]"
      ]
     },
     "execution_count": 6,
     "metadata": {},
     "output_type": "execute_result"
    }
   ],
   "source": [
    "graph1.to_las_CurveItems()"
   ]
  },
  {
   "cell_type": "code",
   "execution_count": 7,
   "metadata": {},
   "outputs": [
    {
     "data": {
      "text/plain": [
       "{'Version': [HeaderItem(mnemonic=\"VERS\", unit=\"\", value=\"2.0\", descr=\"CWLS log ASCII Standa\"),\n",
       "  HeaderItem(mnemonic=\"WRAP\", unit=\"\", value=\"NO\", descr=\"One line per depth ste\"),\n",
       "  HeaderItem(mnemonic=\"DLM\", unit=\"\", value=\"SPACE\", descr=\"Column Data Section \")],\n",
       " 'Well': [HeaderItem(mnemonic=\"STRT\", unit=\"m\", value=\"nan\", descr=\"START DEPTH\"),\n",
       "  HeaderItem(mnemonic=\"STOP\", unit=\"m\", value=\"nan\", descr=\"STOP DEPTH\"),\n",
       "  HeaderItem(mnemonic=\"STEP\", unit=\"m\", value=\"nan\", descr=\"STEP\"),\n",
       "  HeaderItem(mnemonic=\"NULL\", unit=\"\", value=\"-9999.25\", descr=\"NULL VALUE\"),\n",
       "  HeaderItem(mnemonic=\"COMP\", unit=\"\", value=\"\", descr=\"COMPANY\"),\n",
       "  HeaderItem(mnemonic=\"WELL\", unit=\"\", value=\"\", descr=\"WELL\"),\n",
       "  HeaderItem(mnemonic=\"FLD\", unit=\"\", value=\"\", descr=\"FIELD\"),\n",
       "  HeaderItem(mnemonic=\"LOC\", unit=\"\", value=\"\", descr=\"LOCATION\"),\n",
       "  HeaderItem(mnemonic=\"PROV\", unit=\"\", value=\"\", descr=\"PROVINCE\"),\n",
       "  HeaderItem(mnemonic=\"CNTY\", unit=\"\", value=\"\", descr=\"COUNTY\"),\n",
       "  HeaderItem(mnemonic=\"STAT\", unit=\"\", value=\"\", descr=\"STATE\"),\n",
       "  HeaderItem(mnemonic=\"CTRY\", unit=\"\", value=\"\", descr=\"COUNTRY\"),\n",
       "  HeaderItem(mnemonic=\"SRVC\", unit=\"\", value=\"\", descr=\"SERVICE COMPANY\"),\n",
       "  HeaderItem(mnemonic=\"DATE\", unit=\"\", value=\"\", descr=\"DATE\"),\n",
       "  HeaderItem(mnemonic=\"UWI\", unit=\"\", value=\"\", descr=\"UNIQUE WELL ID\"),\n",
       "  HeaderItem(mnemonic=\"API\", unit=\"\", value=\"\", descr=\"API NUMBER\")],\n",
       " 'Curves': [CurveItem(mnemonic=\"GR\", unit=\"GAPI\", value=\"\", descr=\"1 Gamma-Ray Log\", original_mnemonic=\"GR\", data.shape=(12022,)),\n",
       "  CurveItem(mnemonic=\"CGR\", unit=\"GAPI\", value=\"\", descr=\"2 Computed Gamma-Ray (Thorium + Potassium)\", original_mnemonic=\"CGR\", data.shape=(12022,)),\n",
       "  CurveItem(mnemonic=\"CALI\", unit=\"CM\", value=\"\", descr=\"3 Caliper Log\", original_mnemonic=\"CALI\", data.shape=(12022,)),\n",
       "  CurveItem(mnemonic=\"LLD\", unit=\"OHMM\", value=\"\", descr=\"4 Laterolog Deep Resistivity\", original_mnemonic=\"LLD\", data.shape=(12022,)),\n",
       "  CurveItem(mnemonic=\"ILD\", unit=\"OHMM\", value=\"\", descr=\"5 Induction Deep Resistivity\", original_mnemonic=\"ILD\", data.shape=(12022,)),\n",
       "  CurveItem(mnemonic=\"ILM\", unit=\"OHMM\", value=\"\", descr=\"6 Medium Induction Log\", original_mnemonic=\"ILM\", data.shape=(12022,)),\n",
       "  CurveItem(mnemonic=\"LLS\", unit=\"OHMM\", value=\"\", descr=\"7 Shallow Laterolog\", original_mnemonic=\"LLS\", data.shape=(12022,)),\n",
       "  CurveItem(mnemonic=\"RHOB\", unit=\"G/C3\", value=\"\", descr=\"8 Compensated Formation Density Log\", original_mnemonic=\"RHOB\", data.shape=(12022,)),\n",
       "  CurveItem(mnemonic=\"NPHI\", unit=\"PU%\", value=\"\", descr=\"9 Neutron Log Porosity\", original_mnemonic=\"NPHI\", data.shape=(12022,)),\n",
       "  CurveItem(mnemonic=\"DT\", unit=\"US/F\", value=\"\", descr=\"10 Delta T\", original_mnemonic=\"DT\", data.shape=(12022,)),\n",
       "  CurveItem(mnemonic=\"TEST\", unit=\"OHM\", value=\"\", descr=\"11 \", original_mnemonic=\"TEST\", data.shape=(12022,))],\n",
       " 'Parameter': [],\n",
       " 'Other': ''}"
      ]
     },
     "execution_count": 7,
     "metadata": {},
     "output_type": "execute_result"
    }
   ],
   "source": [
    "graph1.to_las().header"
   ]
  },
  {
   "cell_type": "code",
   "execution_count": 8,
   "metadata": {},
   "outputs": [
    {
     "data": {
      "text/plain": [
       "{'Version': [HeaderItem(mnemonic=\"VERS\", unit=\"\", value=\"2.0\", descr=\"CWLS log ASCII Standa\"),\n",
       "  HeaderItem(mnemonic=\"WRAP\", unit=\"\", value=\"NO\", descr=\"One line per depth ste\")],\n",
       " 'Well': [HeaderItem(mnemonic=\"STRT\", unit=\"M\", value=\"0.1524\", descr=\"START\"),\n",
       "  HeaderItem(mnemonic=\"STOP\", unit=\"M\", value=\"1832.1528\", descr=\"STOP\"),\n",
       "  HeaderItem(mnemonic=\"STEP\", unit=\"M\", value=\"0.1524\", descr=\"STEP\"),\n",
       "  HeaderItem(mnemonic=\"NULL\", unit=\"\", value=\"-999.25\", descr=\"NULL VALUE\"),\n",
       "  HeaderItem(mnemonic=\"WELL\", unit=\"\", value=\"SALADIN 1\", descr=\"Well Name\"),\n",
       "  HeaderItem(mnemonic=\"FLD\", unit=\"\", value=\"SALADIN\", descr=\"Field\"),\n",
       "  HeaderItem(mnemonic=\"PROV\", unit=\"\", value=\"\", descr=\"Province\"),\n",
       "  HeaderItem(mnemonic=\"LOC\", unit=\"\", value=\"\", descr=\"Field Location\"),\n",
       "  HeaderItem(mnemonic=\"PD\", unit=\"\", value=\"MSL\", descr=\"Permanent Datum\"),\n",
       "  HeaderItem(mnemonic=\"UWI\", unit=\"\", value=\"\", descr=\"Unique Well ID\"),\n",
       "  HeaderItem(mnemonic=\"ELZ\", unit=\"M\", value=\"0.0\", descr=\"Elevation Log Zero\"),\n",
       "  HeaderItem(mnemonic=\"OS\", unit=\"\", value=\"\", descr=\"Services\"),\n",
       "  HeaderItem(mnemonic=\"SRVC\", unit=\"\", value=\"\", descr=\"Service company\"),\n",
       "  HeaderItem(mnemonic=\"DATE\", unit=\"\", value=\"\", descr=\"Date\")],\n",
       " 'Curves': [CurveItem(mnemonic=\"DEPT:1\", unit=\"M\", value=\"\", descr=\"1 Depth\", original_mnemonic=\"DEPT\", data.shape=(12022,)),\n",
       "  CurveItem(mnemonic=\"DEPT:2\", unit=\"M\", value=\"\", descr=\"2 Measured Depth\", original_mnemonic=\"DEPT\", data.shape=(12022,)),\n",
       "  CurveItem(mnemonic=\"DRHO\", unit=\"G/C3\", value=\"\", descr=\"3 Density Log Correction\", original_mnemonic=\"DRHO\", data.shape=(12022,)),\n",
       "  CurveItem(mnemonic=\"MSFL\", unit=\"OHMM\", value=\"\", descr=\"4 Micro Spherically Focused Log\", original_mnemonic=\"MSFL\", data.shape=(12022,)),\n",
       "  CurveItem(mnemonic=\"PEF\", unit=\"\", value=\"\", descr=\"5 Photoelectric Factor\", original_mnemonic=\"PEF\", data.shape=(12022,)),\n",
       "  CurveItem(mnemonic=\"POTA\", unit=\"\", value=\"\", descr=\"6 Potassium Concentration\", original_mnemonic=\"POTA\", data.shape=(12022,)),\n",
       "  CurveItem(mnemonic=\"SFL\", unit=\"OHMM\", value=\"\", descr=\"7 SFL Resistivity Averaged over 2.5 Ft\", original_mnemonic=\"SFL\", data.shape=(12022,)),\n",
       "  CurveItem(mnemonic=\"SGR\", unit=\"GAPI\", value=\"\", descr=\"8 Spectral Gamma-Ray\", original_mnemonic=\"SGR\", data.shape=(12022,)),\n",
       "  CurveItem(mnemonic=\"SP\", unit=\"MV\", value=\"\", descr=\"9 Spontaneous Potential Log\", original_mnemonic=\"SP\", data.shape=(12022,)),\n",
       "  CurveItem(mnemonic=\"THOR\", unit=\"\", value=\"\", descr=\"10 Thorium\", original_mnemonic=\"THOR\", data.shape=(12022,)),\n",
       "  CurveItem(mnemonic=\"URAN\", unit=\"\", value=\"\", descr=\"11 Uranium\", original_mnemonic=\"URAN\", data.shape=(12022,)),\n",
       "  CurveItem(mnemonic=\"GR\", unit=\"GAPI\", value=\"\", descr=\"12 Gamma-Ray Log\", original_mnemonic=\"GR\", data.shape=(12022,)),\n",
       "  CurveItem(mnemonic=\"CGR\", unit=\"GAPI\", value=\"\", descr=\"13 Computed Gamma-Ray (Thorium + Potassium)\", original_mnemonic=\"CGR\", data.shape=(12022,)),\n",
       "  CurveItem(mnemonic=\"CALI\", unit=\"CM\", value=\"\", descr=\"14 Caliper Log\", original_mnemonic=\"CALI\", data.shape=(12022,)),\n",
       "  CurveItem(mnemonic=\"LLD\", unit=\"OHMM\", value=\"\", descr=\"15 Laterolog Deep Resistivity\", original_mnemonic=\"LLD\", data.shape=(12022,)),\n",
       "  CurveItem(mnemonic=\"ILD\", unit=\"OHMM\", value=\"\", descr=\"16 Induction Deep Resistivity\", original_mnemonic=\"ILD\", data.shape=(12022,)),\n",
       "  CurveItem(mnemonic=\"ILM\", unit=\"OHMM\", value=\"\", descr=\"17 Medium Induction Log\", original_mnemonic=\"ILM\", data.shape=(12022,)),\n",
       "  CurveItem(mnemonic=\"LLS\", unit=\"OHMM\", value=\"\", descr=\"18 Shallow Laterolog\", original_mnemonic=\"LLS\", data.shape=(12022,)),\n",
       "  CurveItem(mnemonic=\"RHOB\", unit=\"G/C3\", value=\"\", descr=\"19 Compensated Formation Density Log\", original_mnemonic=\"RHOB\", data.shape=(12022,)),\n",
       "  CurveItem(mnemonic=\"NPHI\", unit=\"PU%\", value=\"\", descr=\"20 Neutron Log Porosity\", original_mnemonic=\"NPHI\", data.shape=(12022,)),\n",
       "  CurveItem(mnemonic=\"DT\", unit=\"US/F\", value=\"\", descr=\"21 Delta T\", original_mnemonic=\"DT\", data.shape=(12022,)),\n",
       "  CurveItem(mnemonic=\"TEST\", unit=\"OHM\", value=\"\", descr=\"22 \", original_mnemonic=\"TEST\", data.shape=(12022,))],\n",
       " 'Parameter': [HeaderItem(mnemonic=\"BLI\", unit=\"M\", value=\"1831.54\", descr=\"Bottom log interv\"),\n",
       "  HeaderItem(mnemonic=\"TLI\", unit=\"M\", value=\"0.0\", descr=\"Top log interval\")],\n",
       " 'Other': ''}"
      ]
     },
     "execution_count": 8,
     "metadata": {},
     "output_type": "execute_result"
    }
   ],
   "source": [
    "las_1 = lasio.read(\"https://raw.githubusercontent.com/geopozo/pozo-demo/main/SALADIN.LAS\")\n",
    "graph1.to_las(template=las_1, strategy=\"merge\").header"
   ]
  },
  {
   "cell_type": "code",
   "execution_count": 9,
   "metadata": {},
   "outputs": [
    {
     "data": {
      "text/plain": [
       "{'Version': [HeaderItem(mnemonic=\"VERS\", unit=\"\", value=\"2.0\", descr=\"CWLS log ASCII Standa\"),\n",
       "  HeaderItem(mnemonic=\"WRAP\", unit=\"\", value=\"NO\", descr=\"One line per depth ste\")],\n",
       " 'Well': [HeaderItem(mnemonic=\"STRT\", unit=\"M\", value=\"0.1524\", descr=\"START\"),\n",
       "  HeaderItem(mnemonic=\"STOP\", unit=\"M\", value=\"1832.1528\", descr=\"STOP\"),\n",
       "  HeaderItem(mnemonic=\"STEP\", unit=\"M\", value=\"0.1524\", descr=\"STEP\"),\n",
       "  HeaderItem(mnemonic=\"NULL\", unit=\"\", value=\"-999.25\", descr=\"NULL VALUE\"),\n",
       "  HeaderItem(mnemonic=\"WELL\", unit=\"\", value=\"SALADIN 1\", descr=\"Well Name\"),\n",
       "  HeaderItem(mnemonic=\"FLD\", unit=\"\", value=\"SALADIN\", descr=\"Field\"),\n",
       "  HeaderItem(mnemonic=\"PROV\", unit=\"\", value=\"\", descr=\"Province\"),\n",
       "  HeaderItem(mnemonic=\"LOC\", unit=\"\", value=\"\", descr=\"Field Location\"),\n",
       "  HeaderItem(mnemonic=\"PD\", unit=\"\", value=\"MSL\", descr=\"Permanent Datum\"),\n",
       "  HeaderItem(mnemonic=\"UWI\", unit=\"\", value=\"\", descr=\"Unique Well ID\"),\n",
       "  HeaderItem(mnemonic=\"ELZ\", unit=\"M\", value=\"0.0\", descr=\"Elevation Log Zero\"),\n",
       "  HeaderItem(mnemonic=\"OS\", unit=\"\", value=\"\", descr=\"Services\"),\n",
       "  HeaderItem(mnemonic=\"SRVC\", unit=\"\", value=\"\", descr=\"Service company\"),\n",
       "  HeaderItem(mnemonic=\"DATE\", unit=\"\", value=\"\", descr=\"Date\")],\n",
       " 'Curves': [CurveItem(mnemonic=\"DEPT:1\", unit=\"M\", value=\"\", descr=\"1 Depth\", original_mnemonic=\"DEPT\", data.shape=(12022,)),\n",
       "  CurveItem(mnemonic=\"DEPT:2\", unit=\"M\", value=\"\", descr=\"2 Measured Depth\", original_mnemonic=\"DEPT\", data.shape=(12022,)),\n",
       "  CurveItem(mnemonic=\"DRHO\", unit=\"G/C3\", value=\"\", descr=\"3 Density Log Correction\", original_mnemonic=\"DRHO\", data.shape=(12022,)),\n",
       "  CurveItem(mnemonic=\"MSFL\", unit=\"OHMM\", value=\"\", descr=\"4 Micro Spherically Focused Log\", original_mnemonic=\"MSFL\", data.shape=(12022,)),\n",
       "  CurveItem(mnemonic=\"PEF\", unit=\"\", value=\"\", descr=\"5 Photoelectric Factor\", original_mnemonic=\"PEF\", data.shape=(12022,)),\n",
       "  CurveItem(mnemonic=\"POTA\", unit=\"\", value=\"\", descr=\"6 Potassium Concentration\", original_mnemonic=\"POTA\", data.shape=(12022,)),\n",
       "  CurveItem(mnemonic=\"SFL\", unit=\"OHMM\", value=\"\", descr=\"7 SFL Resistivity Averaged over 2.5 Ft\", original_mnemonic=\"SFL\", data.shape=(12022,)),\n",
       "  CurveItem(mnemonic=\"SGR\", unit=\"GAPI\", value=\"\", descr=\"8 Spectral Gamma-Ray\", original_mnemonic=\"SGR\", data.shape=(12022,)),\n",
       "  CurveItem(mnemonic=\"SP\", unit=\"MV\", value=\"\", descr=\"9 Spontaneous Potential Log\", original_mnemonic=\"SP\", data.shape=(12022,)),\n",
       "  CurveItem(mnemonic=\"THOR\", unit=\"\", value=\"\", descr=\"10 Thorium\", original_mnemonic=\"THOR\", data.shape=(12022,)),\n",
       "  CurveItem(mnemonic=\"URAN\", unit=\"\", value=\"\", descr=\"11 Uranium\", original_mnemonic=\"URAN\", data.shape=(12022,)),\n",
       "  CurveItem(mnemonic=\"GR\", unit=\"GAPI\", value=\"\", descr=\"12 Gamma-Ray Log\", original_mnemonic=\"GR\", data.shape=(12022,)),\n",
       "  CurveItem(mnemonic=\"CGR\", unit=\"GAPI\", value=\"\", descr=\"13 Computed Gamma-Ray (Thorium + Potassium)\", original_mnemonic=\"CGR\", data.shape=(12022,)),\n",
       "  CurveItem(mnemonic=\"CALI\", unit=\"CM\", value=\"\", descr=\"14 Caliper Log\", original_mnemonic=\"CALI\", data.shape=(12022,)),\n",
       "  CurveItem(mnemonic=\"LLD\", unit=\"OHMM\", value=\"\", descr=\"15 Laterolog Deep Resistivity\", original_mnemonic=\"LLD\", data.shape=(12022,)),\n",
       "  CurveItem(mnemonic=\"ILD\", unit=\"OHMM\", value=\"\", descr=\"16 Induction Deep Resistivity\", original_mnemonic=\"ILD\", data.shape=(12022,)),\n",
       "  CurveItem(mnemonic=\"ILM\", unit=\"OHMM\", value=\"\", descr=\"17 Medium Induction Log\", original_mnemonic=\"ILM\", data.shape=(12022,)),\n",
       "  CurveItem(mnemonic=\"LLS\", unit=\"OHMM\", value=\"\", descr=\"18 Shallow Laterolog\", original_mnemonic=\"LLS\", data.shape=(12022,)),\n",
       "  CurveItem(mnemonic=\"RHOB\", unit=\"G/C3\", value=\"\", descr=\"19 Compensated Formation Density Log\", original_mnemonic=\"RHOB\", data.shape=(12022,)),\n",
       "  CurveItem(mnemonic=\"NPHI\", unit=\"PU%\", value=\"\", descr=\"20 Neutron Log Porosity\", original_mnemonic=\"NPHI\", data.shape=(12022,)),\n",
       "  CurveItem(mnemonic=\"DT\", unit=\"US/F\", value=\"\", descr=\"21 Delta T\", original_mnemonic=\"DT\", data.shape=(12022,)),\n",
       "  CurveItem(mnemonic=\"TEST\", unit=\"OHM\", value=\"\", descr=\"22 \", original_mnemonic=\"TEST\", data.shape=(12022,))],\n",
       " 'Parameter': [HeaderItem(mnemonic=\"BLI\", unit=\"M\", value=\"1831.54\", descr=\"Bottom log interv\"),\n",
       "  HeaderItem(mnemonic=\"TLI\", unit=\"M\", value=\"0.0\", descr=\"Top log interval\")],\n",
       " 'Other': ''}"
      ]
     },
     "execution_count": 9,
     "metadata": {},
     "output_type": "execute_result"
    }
   ],
   "source": [
    "las_2 = lasio.read(\"https://raw.githubusercontent.com/geopozo/pozo-demo/main/SALADIN.LAS\")\n",
    "las_1.header"
   ]
  },
  {
   "cell_type": "code",
   "execution_count": 10,
   "metadata": {},
   "outputs": [
    {
     "data": {
      "text/plain": [
       "{'Version': [HeaderItem(mnemonic=\"VERS\", unit=\"\", value=\"2.0\", descr=\"CWLS log ASCII Standa\"),\n",
       "  HeaderItem(mnemonic=\"WRAP\", unit=\"\", value=\"NO\", descr=\"One line per depth ste\")],\n",
       " 'Well': [HeaderItem(mnemonic=\"STRT\", unit=\"M\", value=\"0.1524\", descr=\"START\"),\n",
       "  HeaderItem(mnemonic=\"STOP\", unit=\"M\", value=\"1832.1528\", descr=\"STOP\"),\n",
       "  HeaderItem(mnemonic=\"STEP\", unit=\"M\", value=\"0.1524\", descr=\"STEP\"),\n",
       "  HeaderItem(mnemonic=\"NULL\", unit=\"\", value=\"-999.25\", descr=\"NULL VALUE\"),\n",
       "  HeaderItem(mnemonic=\"WELL\", unit=\"\", value=\"SALADIN 1\", descr=\"Well Name\"),\n",
       "  HeaderItem(mnemonic=\"FLD\", unit=\"\", value=\"SALADIN\", descr=\"Field\"),\n",
       "  HeaderItem(mnemonic=\"PROV\", unit=\"\", value=\"\", descr=\"Province\"),\n",
       "  HeaderItem(mnemonic=\"LOC\", unit=\"\", value=\"\", descr=\"Field Location\"),\n",
       "  HeaderItem(mnemonic=\"PD\", unit=\"\", value=\"MSL\", descr=\"Permanent Datum\"),\n",
       "  HeaderItem(mnemonic=\"UWI\", unit=\"\", value=\"\", descr=\"Unique Well ID\"),\n",
       "  HeaderItem(mnemonic=\"ELZ\", unit=\"M\", value=\"0.0\", descr=\"Elevation Log Zero\"),\n",
       "  HeaderItem(mnemonic=\"OS\", unit=\"\", value=\"\", descr=\"Services\"),\n",
       "  HeaderItem(mnemonic=\"SRVC\", unit=\"\", value=\"\", descr=\"Service company\"),\n",
       "  HeaderItem(mnemonic=\"DATE\", unit=\"\", value=\"\", descr=\"Date\")],\n",
       " 'Curves': [CurveItem(mnemonic=\"DEPT:1\", unit=\"M\", value=\"\", descr=\"1 Depth\", original_mnemonic=\"DEPT\", data.shape=(12022,)),\n",
       "  CurveItem(mnemonic=\"DEPT:2\", unit=\"M\", value=\"\", descr=\"2 Measured Depth\", original_mnemonic=\"DEPT\", data.shape=(12022,)),\n",
       "  CurveItem(mnemonic=\"CALI:1\", unit=\"CM\", value=\"\", descr=\"3 Caliper Log\", original_mnemonic=\"CALI\", data.shape=(12022,)),\n",
       "  CurveItem(mnemonic=\"CGR:1\", unit=\"GAPI\", value=\"\", descr=\"4 Computed Gamma-Ray (Thorium + Potassium)\", original_mnemonic=\"CGR\", data.shape=(12022,)),\n",
       "  CurveItem(mnemonic=\"DRHO\", unit=\"G/C3\", value=\"\", descr=\"5 Density Log Correction\", original_mnemonic=\"DRHO\", data.shape=(12022,)),\n",
       "  CurveItem(mnemonic=\"DT:1\", unit=\"US/F\", value=\"\", descr=\"6 Delta T\", original_mnemonic=\"DT\", data.shape=(12022,)),\n",
       "  CurveItem(mnemonic=\"GR:1\", unit=\"GAPI\", value=\"\", descr=\"7 Gamma-Ray Log\", original_mnemonic=\"GR\", data.shape=(12022,)),\n",
       "  CurveItem(mnemonic=\"ILD:1\", unit=\"OHMM\", value=\"\", descr=\"8 Induction Deep Resistivity\", original_mnemonic=\"ILD\", data.shape=(12022,)),\n",
       "  CurveItem(mnemonic=\"ILM:1\", unit=\"OHMM\", value=\"\", descr=\"9 Medium Induction Log\", original_mnemonic=\"ILM\", data.shape=(12022,)),\n",
       "  CurveItem(mnemonic=\"LLD:1\", unit=\"OHMM\", value=\"\", descr=\"10 Laterolog Deep Resistivity\", original_mnemonic=\"LLD\", data.shape=(12022,)),\n",
       "  CurveItem(mnemonic=\"LLS:1\", unit=\"OHMM\", value=\"\", descr=\"11 Shallow Laterolog\", original_mnemonic=\"LLS\", data.shape=(12022,)),\n",
       "  CurveItem(mnemonic=\"MSFL\", unit=\"OHMM\", value=\"\", descr=\"12 Micro Spherically Focused Log\", original_mnemonic=\"MSFL\", data.shape=(12022,)),\n",
       "  CurveItem(mnemonic=\"NPHI:1\", unit=\"PU\", value=\"\", descr=\"13 Neutron Log Porosity\", original_mnemonic=\"NPHI\", data.shape=(12022,)),\n",
       "  CurveItem(mnemonic=\"PEF\", unit=\"\", value=\"\", descr=\"14 Photoelectric Factor\", original_mnemonic=\"PEF\", data.shape=(12022,)),\n",
       "  CurveItem(mnemonic=\"POTA\", unit=\"\", value=\"\", descr=\"15 Potassium Concentration\", original_mnemonic=\"POTA\", data.shape=(12022,)),\n",
       "  CurveItem(mnemonic=\"RHOB:1\", unit=\"G/C3\", value=\"\", descr=\"16 Compensated Formation Density Log\", original_mnemonic=\"RHOB\", data.shape=(12022,)),\n",
       "  CurveItem(mnemonic=\"SFL\", unit=\"OHMM\", value=\"\", descr=\"17 SFL Resistivity Averaged over 2.5 Ft\", original_mnemonic=\"SFL\", data.shape=(12022,)),\n",
       "  CurveItem(mnemonic=\"SGR\", unit=\"GAPI\", value=\"\", descr=\"18 Spectral Gamma-Ray\", original_mnemonic=\"SGR\", data.shape=(12022,)),\n",
       "  CurveItem(mnemonic=\"SP\", unit=\"MV\", value=\"\", descr=\"19 Spontaneous Potential Log\", original_mnemonic=\"SP\", data.shape=(12022,)),\n",
       "  CurveItem(mnemonic=\"THOR\", unit=\"\", value=\"\", descr=\"20 Thorium\", original_mnemonic=\"THOR\", data.shape=(12022,)),\n",
       "  CurveItem(mnemonic=\"URAN\", unit=\"\", value=\"\", descr=\"21 Uranium\", original_mnemonic=\"URAN\", data.shape=(12022,)),\n",
       "  CurveItem(mnemonic=\"GR:2\", unit=\"GAPI\", value=\"\", descr=\"22 Gamma-Ray Log\", original_mnemonic=\"GR\", data.shape=(12022,)),\n",
       "  CurveItem(mnemonic=\"CGR:2\", unit=\"GAPI\", value=\"\", descr=\"23 Computed Gamma-Ray (Thorium + Potassium)\", original_mnemonic=\"CGR\", data.shape=(12022,)),\n",
       "  CurveItem(mnemonic=\"CALI:2\", unit=\"CM\", value=\"\", descr=\"24 Caliper Log\", original_mnemonic=\"CALI\", data.shape=(12022,)),\n",
       "  CurveItem(mnemonic=\"LLD:2\", unit=\"OHMM\", value=\"\", descr=\"25 Laterolog Deep Resistivity\", original_mnemonic=\"LLD\", data.shape=(12022,)),\n",
       "  CurveItem(mnemonic=\"ILD:2\", unit=\"OHMM\", value=\"\", descr=\"26 Induction Deep Resistivity\", original_mnemonic=\"ILD\", data.shape=(12022,)),\n",
       "  CurveItem(mnemonic=\"ILM:2\", unit=\"OHMM\", value=\"\", descr=\"27 Medium Induction Log\", original_mnemonic=\"ILM\", data.shape=(12022,)),\n",
       "  CurveItem(mnemonic=\"LLS:2\", unit=\"OHMM\", value=\"\", descr=\"28 Shallow Laterolog\", original_mnemonic=\"LLS\", data.shape=(12022,)),\n",
       "  CurveItem(mnemonic=\"RHOB:2\", unit=\"G/C3\", value=\"\", descr=\"29 Compensated Formation Density Log\", original_mnemonic=\"RHOB\", data.shape=(12022,)),\n",
       "  CurveItem(mnemonic=\"NPHI:2\", unit=\"PU%\", value=\"\", descr=\"30 Neutron Log Porosity\", original_mnemonic=\"NPHI\", data.shape=(12022,)),\n",
       "  CurveItem(mnemonic=\"DT:2\", unit=\"US/F\", value=\"\", descr=\"31 Delta T\", original_mnemonic=\"DT\", data.shape=(12022,)),\n",
       "  CurveItem(mnemonic=\"TEST\", unit=\"OHM\", value=\"\", descr=\"32 \", original_mnemonic=\"TEST\", data.shape=(12022,))],\n",
       " 'Parameter': [HeaderItem(mnemonic=\"BLI\", unit=\"M\", value=\"1831.54\", descr=\"Bottom log interv\"),\n",
       "  HeaderItem(mnemonic=\"TLI\", unit=\"M\", value=\"0.0\", descr=\"Top log interval\")],\n",
       " 'Other': ''}"
      ]
     },
     "execution_count": 10,
     "metadata": {},
     "output_type": "execute_result"
    }
   ],
   "source": [
    "las_2 = lasio.read(\"https://raw.githubusercontent.com/geopozo/pozo-demo/main/SALADIN.LAS\")\n",
    "graph1.to_las(template=las_2, strategy=\"add\").header"
   ]
  },
  {
   "cell_type": "code",
   "execution_count": 11,
   "metadata": {},
   "outputs": [
    {
     "data": {
      "text/plain": [
       "{'Version': [HeaderItem(mnemonic=\"VERS\", unit=\"\", value=\"2.0\", descr=\"CWLS log ASCII Standa\"),\n",
       "  HeaderItem(mnemonic=\"WRAP\", unit=\"\", value=\"NO\", descr=\"One line per depth ste\")],\n",
       " 'Well': [HeaderItem(mnemonic=\"STRT\", unit=\"M\", value=\"0.1524\", descr=\"START\"),\n",
       "  HeaderItem(mnemonic=\"STOP\", unit=\"M\", value=\"1832.1528\", descr=\"STOP\"),\n",
       "  HeaderItem(mnemonic=\"STEP\", unit=\"M\", value=\"0.1524\", descr=\"STEP\"),\n",
       "  HeaderItem(mnemonic=\"NULL\", unit=\"\", value=\"-999.25\", descr=\"NULL VALUE\"),\n",
       "  HeaderItem(mnemonic=\"WELL\", unit=\"\", value=\"SALADIN 1\", descr=\"Well Name\"),\n",
       "  HeaderItem(mnemonic=\"FLD\", unit=\"\", value=\"SALADIN\", descr=\"Field\"),\n",
       "  HeaderItem(mnemonic=\"PROV\", unit=\"\", value=\"\", descr=\"Province\"),\n",
       "  HeaderItem(mnemonic=\"LOC\", unit=\"\", value=\"\", descr=\"Field Location\"),\n",
       "  HeaderItem(mnemonic=\"PD\", unit=\"\", value=\"MSL\", descr=\"Permanent Datum\"),\n",
       "  HeaderItem(mnemonic=\"UWI\", unit=\"\", value=\"\", descr=\"Unique Well ID\"),\n",
       "  HeaderItem(mnemonic=\"ELZ\", unit=\"M\", value=\"0.0\", descr=\"Elevation Log Zero\"),\n",
       "  HeaderItem(mnemonic=\"OS\", unit=\"\", value=\"\", descr=\"Services\"),\n",
       "  HeaderItem(mnemonic=\"SRVC\", unit=\"\", value=\"\", descr=\"Service company\"),\n",
       "  HeaderItem(mnemonic=\"DATE\", unit=\"\", value=\"\", descr=\"Date\")],\n",
       " 'Curves': [CurveItem(mnemonic=\"GR\", unit=\"GAPI\", value=\"\", descr=\"1 Gamma-Ray Log\", original_mnemonic=\"GR\", data.shape=(12022,)),\n",
       "  CurveItem(mnemonic=\"CGR\", unit=\"GAPI\", value=\"\", descr=\"2 Computed Gamma-Ray (Thorium + Potassium)\", original_mnemonic=\"CGR\", data.shape=(12022,)),\n",
       "  CurveItem(mnemonic=\"CALI\", unit=\"CM\", value=\"\", descr=\"3 Caliper Log\", original_mnemonic=\"CALI\", data.shape=(12022,)),\n",
       "  CurveItem(mnemonic=\"LLD\", unit=\"OHMM\", value=\"\", descr=\"4 Laterolog Deep Resistivity\", original_mnemonic=\"LLD\", data.shape=(12022,)),\n",
       "  CurveItem(mnemonic=\"ILD\", unit=\"OHMM\", value=\"\", descr=\"5 Induction Deep Resistivity\", original_mnemonic=\"ILD\", data.shape=(12022,)),\n",
       "  CurveItem(mnemonic=\"ILM\", unit=\"OHMM\", value=\"\", descr=\"6 Medium Induction Log\", original_mnemonic=\"ILM\", data.shape=(12022,)),\n",
       "  CurveItem(mnemonic=\"LLS\", unit=\"OHMM\", value=\"\", descr=\"7 Shallow Laterolog\", original_mnemonic=\"LLS\", data.shape=(12022,)),\n",
       "  CurveItem(mnemonic=\"RHOB\", unit=\"G/C3\", value=\"\", descr=\"8 Compensated Formation Density Log\", original_mnemonic=\"RHOB\", data.shape=(12022,)),\n",
       "  CurveItem(mnemonic=\"NPHI\", unit=\"PU%\", value=\"\", descr=\"9 Neutron Log Porosity\", original_mnemonic=\"NPHI\", data.shape=(12022,)),\n",
       "  CurveItem(mnemonic=\"DT\", unit=\"US/F\", value=\"\", descr=\"10 Delta T\", original_mnemonic=\"DT\", data.shape=(12022,)),\n",
       "  CurveItem(mnemonic=\"TEST\", unit=\"OHM\", value=\"\", descr=\"11 \", original_mnemonic=\"TEST\", data.shape=(12022,))],\n",
       " 'Parameter': [HeaderItem(mnemonic=\"BLI\", unit=\"M\", value=\"1831.54\", descr=\"Bottom log interv\"),\n",
       "  HeaderItem(mnemonic=\"TLI\", unit=\"M\", value=\"0.0\", descr=\"Top log interval\")],\n",
       " 'Other': ''}"
      ]
     },
     "execution_count": 11,
     "metadata": {},
     "output_type": "execute_result"
    }
   ],
   "source": [
    "las_3 = lasio.read(\"https://raw.githubusercontent.com/geopozo/pozo-demo/main/SALADIN.LAS\")\n",
    "graph1.to_las(template=las_3, strategy=\"pozo-only\").header\n"
   ]
  }
 ],
 "metadata": {
  "kernelspec": {
   "display_name": "fft_sandbox",
   "language": "python",
   "name": "fft_sandbox"
  },
  "language_info": {
   "codemirror_mode": {
    "name": "ipython",
    "version": 3
   },
   "file_extension": ".py",
   "mimetype": "text/x-python",
   "name": "python",
   "nbconvert_exporter": "python",
   "pygments_lexer": "ipython3",
   "version": "3.11.8"
  }
 },
 "nbformat": 4,
 "nbformat_minor": 4
}
