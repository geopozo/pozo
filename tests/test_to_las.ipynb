{
 "cells": [
  {
   "cell_type": "code",
   "execution_count": 1,
   "metadata": {},
   "outputs": [
    {
     "data": {
      "application/javascript": "var css = '.plot-container { overflow: auto; }',\nhead = document.getElementsByTagName('head')[0],\nstyle = document.createElement('style');\n\nstyle.type = 'text/css';\nif (style.styleSheet){\n  style.styleSheet.cssText = css;\n} else {\n  style.appendChild(document.createTextNode(css));\n}\nconsole.log(\"Executed javascript()\")\nhead.appendChild(style);",
      "text/plain": [
       "<IPython.core.display.Javascript object>"
      ]
     },
     "metadata": {},
     "output_type": "display_data"
    }
   ],
   "source": [
    "import lasio\n",
    "import pozo\n",
    "import pozomath as pzm\n",
    "from pozomath.VSH import vsh_methods"
   ]
  },
  {
   "cell_type": "code",
   "execution_count": 2,
   "metadata": {},
   "outputs": [],
   "source": [
    "las = lasio.read(r\"C:\\Users\\neybe\\Desktop\\Pozo\\pozo-py\\tests\\data\\SALADIN.LAS\")"
   ]
  },
  {
   "cell_type": "code",
   "execution_count": 3,
   "metadata": {},
   "outputs": [
    {
     "data": {
      "application/javascript": "var css = '.plot-container { overflow: auto; }',\nhead = document.getElementsByTagName('head')[0],\nstyle = document.createElement('style');\n\nstyle.type = 'text/css';\nif (style.styleSheet){\n  style.styleSheet.cssText = css;\n} else {\n  style.appendChild(document.createTextNode(css));\n}\nconsole.log(\"Executed javascript()\")\nhead.appendChild(style);",
      "text/plain": [
       "<IPython.core.display.Javascript object>"
      ]
     },
     "metadata": {},
     "output_type": "display_data"
    }
   ],
   "source": [
    "include = [\"GR\", \"CALI\", \"CGR\", \"LLS\", \"ILM\", \"ILD\", \"LLD\", \"NPHI\", \"RHOB\", \"DT\"]\n",
    "graph1 = pozo.Graph(las,  yaxis_name=\"DEPT:1\", include=include) \n",
    "graph1.combine_tracks(\"CGR\", \"CALI\")\n",
    "graph1.combine_tracks(\"LLD\",\"ILD\",\"ILM\",\"LLS\") \n",
    "graph1.combine_tracks(\"RHOB\", \"NPHI\")"
   ]
  },
  {
   "cell_type": "code",
   "execution_count": 4,
   "metadata": {},
   "outputs": [],
   "source": [
    "for methods in vsh_methods.keys():\n",
    "    graph1.add_tracks(pzm.VSH.create_vsh_track(graph1, method=methods, from_log=\"CGR\"))"
   ]
  },
  {
   "cell_type": "code",
   "execution_count": 5,
   "metadata": {},
   "outputs": [],
   "source": [
    "graph1.combine_tracks(\"IGR\",\"STEIBER\",\"CLAVIER\",\"LARINOV-TERTIARY \",\"LARINOV-OLD\") "
   ]
  },
  {
   "cell_type": "code",
   "execution_count": 6,
   "metadata": {},
   "outputs": [],
   "source": [
    "test = graph1.to_las_CurveItems(\"LLD\", template=las)"
   ]
  },
  {
   "cell_type": "code",
   "execution_count": 7,
   "metadata": {},
   "outputs": [
    {
     "data": {
      "text/plain": [
       "[CurveItem(mnemonic=\"LLD\", unit=\"meter * ohm\", value=\"\", descr=\"10  Laterolog Deep Resistivity\", original_mnemonic=\"LLD\", data.shape=(12022,))]"
      ]
     },
     "execution_count": 7,
     "metadata": {},
     "output_type": "execute_result"
    }
   ],
   "source": [
    "test"
   ]
  },
  {
   "cell_type": "code",
   "execution_count": 8,
   "metadata": {},
   "outputs": [],
   "source": [
    "test_1 = graph1.to_las_CurveItems(\"DT\", \"GR\", description=[\"6  Delta T\", \"7  Gamma-Ray Log\"], units=[\"microsecond / foot\", \"gamma_API_unit\"])"
   ]
  },
  {
   "cell_type": "code",
   "execution_count": 9,
   "metadata": {},
   "outputs": [
    {
     "data": {
      "text/plain": [
       "[CurveItem(mnemonic=\"GR\", unit=\"gamma_API_unit\", value=\"\", descr=\"6  Delta T\", original_mnemonic=\"GR\", data.shape=(12022,)),\n",
       " CurveItem(mnemonic=\"DT\", unit=\"microsecond / foot\", value=\"\", descr=\"7  Gamma-Ray Log\", original_mnemonic=\"DT\", data.shape=(12022,))]"
      ]
     },
     "execution_count": 9,
     "metadata": {},
     "output_type": "execute_result"
    }
   ],
   "source": [
    "test_1"
   ]
  },
  {
   "cell_type": "code",
   "execution_count": 10,
   "metadata": {},
   "outputs": [],
   "source": [
    "test_2 = graph1.to_las_CurveItems()"
   ]
  },
  {
   "cell_type": "code",
   "execution_count": 11,
   "metadata": {},
   "outputs": [
    {
     "data": {
      "text/plain": [
       "[CurveItem(mnemonic=\"GR\", unit=\"gamma_API_unit\", value=\"\", descr=\"\", original_mnemonic=\"GR\", data.shape=(12022,)),\n",
       " CurveItem(mnemonic=\"CGR\", unit=\"gamma_API_unit\", value=\"\", descr=\"\", original_mnemonic=\"CGR\", data.shape=(12022,)),\n",
       " CurveItem(mnemonic=\"CALI\", unit=\"centimeter\", value=\"\", descr=\"\", original_mnemonic=\"CALI\", data.shape=(12022,)),\n",
       " CurveItem(mnemonic=\"LLD\", unit=\"meter * ohm\", value=\"\", descr=\"\", original_mnemonic=\"LLD\", data.shape=(12022,)),\n",
       " CurveItem(mnemonic=\"ILD\", unit=\"meter * ohm\", value=\"\", descr=\"\", original_mnemonic=\"ILD\", data.shape=(12022,)),\n",
       " CurveItem(mnemonic=\"ILM\", unit=\"meter * ohm\", value=\"\", descr=\"\", original_mnemonic=\"ILM\", data.shape=(12022,)),\n",
       " CurveItem(mnemonic=\"LLS\", unit=\"meter * ohm\", value=\"\", descr=\"\", original_mnemonic=\"LLS\", data.shape=(12022,)),\n",
       " CurveItem(mnemonic=\"RHOB\", unit=\"gram / centimeter ** 3\", value=\"\", descr=\"\", original_mnemonic=\"RHOB\", data.shape=(12022,)),\n",
       " CurveItem(mnemonic=\"NPHI\", unit=\"porosity_unit\", value=\"\", descr=\"\", original_mnemonic=\"NPHI\", data.shape=(12022,)),\n",
       " CurveItem(mnemonic=\"DT\", unit=\"microsecond / foot\", value=\"\", descr=\"\", original_mnemonic=\"DT\", data.shape=(12022,)),\n",
       " CurveItem(mnemonic=\"IGR\", unit=\"of_1\", value=\"\", descr=\"\", original_mnemonic=\"IGR\", data.shape=(12022,)),\n",
       " CurveItem(mnemonic=\"STEIBER\", unit=\"of_1\", value=\"\", descr=\"\", original_mnemonic=\"STEIBER\", data.shape=(12022,)),\n",
       " CurveItem(mnemonic=\"CLAVIER\", unit=\"of_1\", value=\"\", descr=\"\", original_mnemonic=\"CLAVIER\", data.shape=(12022,)),\n",
       " CurveItem(mnemonic=\"LARINOV-TERTIARY \", unit=\"of_1\", value=\"\", descr=\"\", original_mnemonic=\"LARINOV-TERTIARY \", data.shape=(12022,)),\n",
       " CurveItem(mnemonic=\"LARINOV-OLD\", unit=\"of_1\", value=\"\", descr=\"\", original_mnemonic=\"LARINOV-OLD\", data.shape=(12022,))]"
      ]
     },
     "execution_count": 11,
     "metadata": {},
     "output_type": "execute_result"
    }
   ],
   "source": [
    "test_2"
   ]
  },
  {
   "cell_type": "code",
   "execution_count": 12,
   "metadata": {},
   "outputs": [],
   "source": [
    "test_las_1 = graph1.to_las()"
   ]
  },
  {
   "cell_type": "code",
   "execution_count": 13,
   "metadata": {},
   "outputs": [
    {
     "data": {
      "text/plain": [
       "[CurveItem(mnemonic=\"GR\", unit=\"gamma_API_unit\", value=\"\", descr=\"\", original_mnemonic=\"GR\", data.shape=(12022,)),\n",
       " CurveItem(mnemonic=\"CGR\", unit=\"gamma_API_unit\", value=\"\", descr=\"\", original_mnemonic=\"CGR\", data.shape=(12022,)),\n",
       " CurveItem(mnemonic=\"CALI\", unit=\"centimeter\", value=\"\", descr=\"\", original_mnemonic=\"CALI\", data.shape=(12022,)),\n",
       " CurveItem(mnemonic=\"LLD\", unit=\"meter * ohm\", value=\"\", descr=\"\", original_mnemonic=\"LLD\", data.shape=(12022,)),\n",
       " CurveItem(mnemonic=\"ILD\", unit=\"meter * ohm\", value=\"\", descr=\"\", original_mnemonic=\"ILD\", data.shape=(12022,)),\n",
       " CurveItem(mnemonic=\"ILM\", unit=\"meter * ohm\", value=\"\", descr=\"\", original_mnemonic=\"ILM\", data.shape=(12022,)),\n",
       " CurveItem(mnemonic=\"LLS\", unit=\"meter * ohm\", value=\"\", descr=\"\", original_mnemonic=\"LLS\", data.shape=(12022,)),\n",
       " CurveItem(mnemonic=\"RHOB\", unit=\"gram / centimeter ** 3\", value=\"\", descr=\"\", original_mnemonic=\"RHOB\", data.shape=(12022,)),\n",
       " CurveItem(mnemonic=\"NPHI\", unit=\"porosity_unit\", value=\"\", descr=\"\", original_mnemonic=\"NPHI\", data.shape=(12022,)),\n",
       " CurveItem(mnemonic=\"DT\", unit=\"microsecond / foot\", value=\"\", descr=\"\", original_mnemonic=\"DT\", data.shape=(12022,)),\n",
       " CurveItem(mnemonic=\"IGR\", unit=\"of_1\", value=\"\", descr=\"\", original_mnemonic=\"IGR\", data.shape=(12022,)),\n",
       " CurveItem(mnemonic=\"STEIBER\", unit=\"of_1\", value=\"\", descr=\"\", original_mnemonic=\"STEIBER\", data.shape=(12022,)),\n",
       " CurveItem(mnemonic=\"CLAVIER\", unit=\"of_1\", value=\"\", descr=\"\", original_mnemonic=\"CLAVIER\", data.shape=(12022,)),\n",
       " CurveItem(mnemonic=\"LARINOV-TERTIARY \", unit=\"of_1\", value=\"\", descr=\"\", original_mnemonic=\"LARINOV-TERTIARY \", data.shape=(12022,)),\n",
       " CurveItem(mnemonic=\"LARINOV-OLD\", unit=\"of_1\", value=\"\", descr=\"\", original_mnemonic=\"LARINOV-OLD\", data.shape=(12022,))]"
      ]
     },
     "execution_count": 13,
     "metadata": {},
     "output_type": "execute_result"
    }
   ],
   "source": [
    "test_las_1.curves"
   ]
  },
  {
   "cell_type": "code",
   "execution_count": 14,
   "metadata": {},
   "outputs": [],
   "source": [
    "las_1 = lasio.read(r\"C:\\Users\\neybe\\Desktop\\Pozo\\pozo-py\\tests\\data\\SALADIN.LAS\")"
   ]
  },
  {
   "cell_type": "code",
   "execution_count": 15,
   "metadata": {},
   "outputs": [],
   "source": [
    "test_las_1 = graph1.to_las(template=las_1, strategy=\"merge\")"
   ]
  },
  {
   "cell_type": "code",
   "execution_count": 16,
   "metadata": {},
   "outputs": [
    {
     "data": {
      "text/plain": [
       "[CurveItem(mnemonic=\"DEPT:1\", unit=\"M\", value=\"\", descr=\"1  Depth\", original_mnemonic=\"DEPT\", data.shape=(12022,)),\n",
       " CurveItem(mnemonic=\"DEPT:2\", unit=\"M\", value=\"\", descr=\"2  Measured Depth\", original_mnemonic=\"DEPT\", data.shape=(12022,)),\n",
       " CurveItem(mnemonic=\"DRHO\", unit=\"G/C3\", value=\"\", descr=\"5  Density Log Correction\", original_mnemonic=\"DRHO\", data.shape=(12022,)),\n",
       " CurveItem(mnemonic=\"MSFL\", unit=\"OHMM\", value=\"\", descr=\"12  Micro Spherically Focused Log\", original_mnemonic=\"MSFL\", data.shape=(12022,)),\n",
       " CurveItem(mnemonic=\"PEF\", unit=\"\", value=\"\", descr=\"14  Photoelectric Factor\", original_mnemonic=\"PEF\", data.shape=(12022,)),\n",
       " CurveItem(mnemonic=\"POTA\", unit=\"\", value=\"\", descr=\"15  Potassium Concentration\", original_mnemonic=\"POTA\", data.shape=(12022,)),\n",
       " CurveItem(mnemonic=\"SFL\", unit=\"OHMM\", value=\"\", descr=\"17  SFL Resistivity Averaged over 2.5 Ft\", original_mnemonic=\"SFL\", data.shape=(12022,)),\n",
       " CurveItem(mnemonic=\"SGR\", unit=\"GAPI\", value=\"\", descr=\"18  Spectral Gamma-Ray\", original_mnemonic=\"SGR\", data.shape=(12022,)),\n",
       " CurveItem(mnemonic=\"SP\", unit=\"MV\", value=\"\", descr=\"19  Spontaneous Potential Log\", original_mnemonic=\"SP\", data.shape=(12022,)),\n",
       " CurveItem(mnemonic=\"THOR\", unit=\"\", value=\"\", descr=\"20  Thorium\", original_mnemonic=\"THOR\", data.shape=(12022,)),\n",
       " CurveItem(mnemonic=\"URAN\", unit=\"\", value=\"\", descr=\"21  Uranium\", original_mnemonic=\"URAN\", data.shape=(12022,)),\n",
       " CurveItem(mnemonic=\"GR\", unit=\"gamma_API_unit\", value=\"\", descr=\"7  Gamma-Ray Log\", original_mnemonic=\"GR\", data.shape=(12022,)),\n",
       " CurveItem(mnemonic=\"CGR\", unit=\"gamma_API_unit\", value=\"\", descr=\"4  Computed Gamma-Ray (Thorium + Potassium)\", original_mnemonic=\"CGR\", data.shape=(12022,)),\n",
       " CurveItem(mnemonic=\"CALI\", unit=\"centimeter\", value=\"\", descr=\"3  Caliper Log\", original_mnemonic=\"CALI\", data.shape=(12022,)),\n",
       " CurveItem(mnemonic=\"LLD\", unit=\"meter * ohm\", value=\"\", descr=\"10  Laterolog Deep Resistivity\", original_mnemonic=\"LLD\", data.shape=(12022,)),\n",
       " CurveItem(mnemonic=\"ILD\", unit=\"meter * ohm\", value=\"\", descr=\"8  Induction Deep Resistivity\", original_mnemonic=\"ILD\", data.shape=(12022,)),\n",
       " CurveItem(mnemonic=\"ILM\", unit=\"meter * ohm\", value=\"\", descr=\"9  Medium Induction Log\", original_mnemonic=\"ILM\", data.shape=(12022,)),\n",
       " CurveItem(mnemonic=\"LLS\", unit=\"meter * ohm\", value=\"\", descr=\"11  Shallow Laterolog\", original_mnemonic=\"LLS\", data.shape=(12022,)),\n",
       " CurveItem(mnemonic=\"RHOB\", unit=\"gram / centimeter ** 3\", value=\"\", descr=\"16  Compensated Formation Density Log\", original_mnemonic=\"RHOB\", data.shape=(12022,)),\n",
       " CurveItem(mnemonic=\"NPHI\", unit=\"porosity_unit\", value=\"\", descr=\"13  Neutron Log Porosity\", original_mnemonic=\"NPHI\", data.shape=(12022,)),\n",
       " CurveItem(mnemonic=\"DT\", unit=\"microsecond / foot\", value=\"\", descr=\"6  Delta T\", original_mnemonic=\"DT\", data.shape=(12022,)),\n",
       " CurveItem(mnemonic=\"IGR\", unit=\"of_1\", value=\"\", descr=\"\", original_mnemonic=\"IGR\", data.shape=(12022,)),\n",
       " CurveItem(mnemonic=\"STEIBER\", unit=\"of_1\", value=\"\", descr=\"\", original_mnemonic=\"STEIBER\", data.shape=(12022,)),\n",
       " CurveItem(mnemonic=\"CLAVIER\", unit=\"of_1\", value=\"\", descr=\"\", original_mnemonic=\"CLAVIER\", data.shape=(12022,)),\n",
       " CurveItem(mnemonic=\"LARINOV-TERTIARY \", unit=\"of_1\", value=\"\", descr=\"\", original_mnemonic=\"LARINOV-TERTIARY \", data.shape=(12022,)),\n",
       " CurveItem(mnemonic=\"LARINOV-OLD\", unit=\"of_1\", value=\"\", descr=\"\", original_mnemonic=\"LARINOV-OLD\", data.shape=(12022,))]"
      ]
     },
     "execution_count": 16,
     "metadata": {},
     "output_type": "execute_result"
    }
   ],
   "source": [
    "test_las_1.curves"
   ]
  },
  {
   "cell_type": "code",
   "execution_count": 17,
   "metadata": {},
   "outputs": [],
   "source": [
    "las_2 = lasio.read(r\"C:\\Users\\neybe\\Desktop\\Pozo\\pozo-py\\tests\\data\\SALADIN.LAS\")"
   ]
  },
  {
   "cell_type": "code",
   "execution_count": 18,
   "metadata": {},
   "outputs": [],
   "source": [
    "test_las_2 = graph1.to_las(template=las_2, strategy=\"add\")"
   ]
  },
  {
   "cell_type": "code",
   "execution_count": 19,
   "metadata": {},
   "outputs": [
    {
     "data": {
      "text/plain": [
       "[CurveItem(mnemonic=\"DEPT:1\", unit=\"M\", value=\"\", descr=\"1  Depth\", original_mnemonic=\"DEPT\", data.shape=(12022,)),\n",
       " CurveItem(mnemonic=\"DEPT:2\", unit=\"M\", value=\"\", descr=\"2  Measured Depth\", original_mnemonic=\"DEPT\", data.shape=(12022,)),\n",
       " CurveItem(mnemonic=\"CALI:1\", unit=\"CM\", value=\"\", descr=\"3  Caliper Log\", original_mnemonic=\"CALI\", data.shape=(12022,)),\n",
       " CurveItem(mnemonic=\"CGR:1\", unit=\"GAPI\", value=\"\", descr=\"4  Computed Gamma-Ray (Thorium + Potassium)\", original_mnemonic=\"CGR\", data.shape=(12022,)),\n",
       " CurveItem(mnemonic=\"DRHO\", unit=\"G/C3\", value=\"\", descr=\"5  Density Log Correction\", original_mnemonic=\"DRHO\", data.shape=(12022,)),\n",
       " CurveItem(mnemonic=\"DT:1\", unit=\"US/F\", value=\"\", descr=\"6  Delta T\", original_mnemonic=\"DT\", data.shape=(12022,)),\n",
       " CurveItem(mnemonic=\"GR:1\", unit=\"GAPI\", value=\"\", descr=\"7  Gamma-Ray Log\", original_mnemonic=\"GR\", data.shape=(12022,)),\n",
       " CurveItem(mnemonic=\"ILD:1\", unit=\"OHMM\", value=\"\", descr=\"8  Induction Deep Resistivity\", original_mnemonic=\"ILD\", data.shape=(12022,)),\n",
       " CurveItem(mnemonic=\"ILM:1\", unit=\"OHMM\", value=\"\", descr=\"9  Medium Induction Log\", original_mnemonic=\"ILM\", data.shape=(12022,)),\n",
       " CurveItem(mnemonic=\"LLD:1\", unit=\"OHMM\", value=\"\", descr=\"10  Laterolog Deep Resistivity\", original_mnemonic=\"LLD\", data.shape=(12022,)),\n",
       " CurveItem(mnemonic=\"LLS:1\", unit=\"OHMM\", value=\"\", descr=\"11  Shallow Laterolog\", original_mnemonic=\"LLS\", data.shape=(12022,)),\n",
       " CurveItem(mnemonic=\"MSFL\", unit=\"OHMM\", value=\"\", descr=\"12  Micro Spherically Focused Log\", original_mnemonic=\"MSFL\", data.shape=(12022,)),\n",
       " CurveItem(mnemonic=\"NPHI:1\", unit=\"PU\", value=\"\", descr=\"13  Neutron Log Porosity\", original_mnemonic=\"NPHI\", data.shape=(12022,)),\n",
       " CurveItem(mnemonic=\"PEF\", unit=\"\", value=\"\", descr=\"14  Photoelectric Factor\", original_mnemonic=\"PEF\", data.shape=(12022,)),\n",
       " CurveItem(mnemonic=\"POTA\", unit=\"\", value=\"\", descr=\"15  Potassium Concentration\", original_mnemonic=\"POTA\", data.shape=(12022,)),\n",
       " CurveItem(mnemonic=\"RHOB:1\", unit=\"G/C3\", value=\"\", descr=\"16  Compensated Formation Density Log\", original_mnemonic=\"RHOB\", data.shape=(12022,)),\n",
       " CurveItem(mnemonic=\"SFL\", unit=\"OHMM\", value=\"\", descr=\"17  SFL Resistivity Averaged over 2.5 Ft\", original_mnemonic=\"SFL\", data.shape=(12022,)),\n",
       " CurveItem(mnemonic=\"SGR\", unit=\"GAPI\", value=\"\", descr=\"18  Spectral Gamma-Ray\", original_mnemonic=\"SGR\", data.shape=(12022,)),\n",
       " CurveItem(mnemonic=\"SP\", unit=\"MV\", value=\"\", descr=\"19  Spontaneous Potential Log\", original_mnemonic=\"SP\", data.shape=(12022,)),\n",
       " CurveItem(mnemonic=\"THOR\", unit=\"\", value=\"\", descr=\"20  Thorium\", original_mnemonic=\"THOR\", data.shape=(12022,)),\n",
       " CurveItem(mnemonic=\"URAN\", unit=\"\", value=\"\", descr=\"21  Uranium\", original_mnemonic=\"URAN\", data.shape=(12022,)),\n",
       " CurveItem(mnemonic=\"GR:2\", unit=\"gamma_API_unit\", value=\"\", descr=\"7  Gamma-Ray Log\", original_mnemonic=\"GR\", data.shape=(12022,)),\n",
       " CurveItem(mnemonic=\"CGR:2\", unit=\"gamma_API_unit\", value=\"\", descr=\"4  Computed Gamma-Ray (Thorium + Potassium)\", original_mnemonic=\"CGR\", data.shape=(12022,)),\n",
       " CurveItem(mnemonic=\"CALI:2\", unit=\"centimeter\", value=\"\", descr=\"3  Caliper Log\", original_mnemonic=\"CALI\", data.shape=(12022,)),\n",
       " CurveItem(mnemonic=\"LLD:2\", unit=\"meter * ohm\", value=\"\", descr=\"10  Laterolog Deep Resistivity\", original_mnemonic=\"LLD\", data.shape=(12022,)),\n",
       " CurveItem(mnemonic=\"ILD:2\", unit=\"meter * ohm\", value=\"\", descr=\"8  Induction Deep Resistivity\", original_mnemonic=\"ILD\", data.shape=(12022,)),\n",
       " CurveItem(mnemonic=\"ILM:2\", unit=\"meter * ohm\", value=\"\", descr=\"9  Medium Induction Log\", original_mnemonic=\"ILM\", data.shape=(12022,)),\n",
       " CurveItem(mnemonic=\"LLS:2\", unit=\"meter * ohm\", value=\"\", descr=\"11  Shallow Laterolog\", original_mnemonic=\"LLS\", data.shape=(12022,)),\n",
       " CurveItem(mnemonic=\"RHOB:2\", unit=\"gram / centimeter ** 3\", value=\"\", descr=\"16  Compensated Formation Density Log\", original_mnemonic=\"RHOB\", data.shape=(12022,)),\n",
       " CurveItem(mnemonic=\"NPHI:2\", unit=\"porosity_unit\", value=\"\", descr=\"13  Neutron Log Porosity\", original_mnemonic=\"NPHI\", data.shape=(12022,)),\n",
       " CurveItem(mnemonic=\"DT:2\", unit=\"microsecond / foot\", value=\"\", descr=\"6  Delta T\", original_mnemonic=\"DT\", data.shape=(12022,)),\n",
       " CurveItem(mnemonic=\"IGR\", unit=\"of_1\", value=\"\", descr=\"\", original_mnemonic=\"IGR\", data.shape=(12022,)),\n",
       " CurveItem(mnemonic=\"STEIBER\", unit=\"of_1\", value=\"\", descr=\"\", original_mnemonic=\"STEIBER\", data.shape=(12022,)),\n",
       " CurveItem(mnemonic=\"CLAVIER\", unit=\"of_1\", value=\"\", descr=\"\", original_mnemonic=\"CLAVIER\", data.shape=(12022,)),\n",
       " CurveItem(mnemonic=\"LARINOV-TERTIARY \", unit=\"of_1\", value=\"\", descr=\"\", original_mnemonic=\"LARINOV-TERTIARY \", data.shape=(12022,)),\n",
       " CurveItem(mnemonic=\"LARINOV-OLD\", unit=\"of_1\", value=\"\", descr=\"\", original_mnemonic=\"LARINOV-OLD\", data.shape=(12022,))]"
      ]
     },
     "execution_count": 19,
     "metadata": {},
     "output_type": "execute_result"
    }
   ],
   "source": [
    "test_las_2.curves"
   ]
  },
  {
   "cell_type": "code",
   "execution_count": 20,
   "metadata": {},
   "outputs": [
    {
     "data": {
      "application/javascript": "var css = '.plot-container { overflow: auto; }',\nhead = document.getElementsByTagName('head')[0],\nstyle = document.createElement('style');\n\nstyle.type = 'text/css';\nif (style.styleSheet){\n  style.styleSheet.cssText = css;\n} else {\n  style.appendChild(document.createTextNode(css));\n}\nconsole.log(\"Executed javascript()\")\nhead.appendChild(style);",
      "text/plain": [
       "<IPython.core.display.Javascript object>"
      ]
     },
     "metadata": {},
     "output_type": "display_data"
    }
   ],
   "source": [
    "las_3 = lasio.read(r\"C:\\Users\\neybe\\Desktop\\Pozo\\pozo-py\\tests\\data\\SALADIN.LAS\")\n",
    "include = [\"GR\", \"CALI\", \"CGR\", \"LLS\", \"ILM\", \"ILD\", \"LLD\", \"NPHI\", \"RHOB\", \"DT\"]\n",
    "graph_2 = pozo.Graph(las_3,  yaxis_name=\"DEPT:1\", include=include)\n",
    "graph_2.original_data = las_3"
   ]
  },
  {
   "cell_type": "code",
   "execution_count": 21,
   "metadata": {},
   "outputs": [],
   "source": [
    "for methods in vsh_methods.keys():\n",
    "    graph_2.add_tracks(pzm.VSH.create_vsh_track(graph1, method=methods, from_log=\"CGR\"))"
   ]
  },
  {
   "cell_type": "code",
   "execution_count": 22,
   "metadata": {},
   "outputs": [],
   "source": [
    "test_3 = graph_2.to_las_CurveItems(\"GR\")"
   ]
  },
  {
   "cell_type": "code",
   "execution_count": 23,
   "metadata": {},
   "outputs": [
    {
     "data": {
      "text/plain": [
       "[CurveItem(mnemonic=\"GR\", unit=\"gamma_API_unit\", value=\"\", descr=\"7  Gamma-Ray Log\", original_mnemonic=\"GR\", data.shape=(12022,))]"
      ]
     },
     "execution_count": 23,
     "metadata": {},
     "output_type": "execute_result"
    }
   ],
   "source": [
    "test_3"
   ]
  },
  {
   "cell_type": "code",
   "execution_count": 24,
   "metadata": {},
   "outputs": [],
   "source": [
    "test_las_3 = graph_2.to_las(strategy=\"merge\")"
   ]
  },
  {
   "cell_type": "code",
   "execution_count": 25,
   "metadata": {},
   "outputs": [
    {
     "data": {
      "text/plain": [
       "[CurveItem(mnemonic=\"DEPT:1\", unit=\"M\", value=\"\", descr=\"1  Depth\", original_mnemonic=\"DEPT\", data.shape=(12022,)),\n",
       " CurveItem(mnemonic=\"DEPT:2\", unit=\"M\", value=\"\", descr=\"2  Measured Depth\", original_mnemonic=\"DEPT\", data.shape=(12022,)),\n",
       " CurveItem(mnemonic=\"DRHO\", unit=\"G/C3\", value=\"\", descr=\"5  Density Log Correction\", original_mnemonic=\"DRHO\", data.shape=(12022,)),\n",
       " CurveItem(mnemonic=\"MSFL\", unit=\"OHMM\", value=\"\", descr=\"12  Micro Spherically Focused Log\", original_mnemonic=\"MSFL\", data.shape=(12022,)),\n",
       " CurveItem(mnemonic=\"PEF\", unit=\"\", value=\"\", descr=\"14  Photoelectric Factor\", original_mnemonic=\"PEF\", data.shape=(12022,)),\n",
       " CurveItem(mnemonic=\"POTA\", unit=\"\", value=\"\", descr=\"15  Potassium Concentration\", original_mnemonic=\"POTA\", data.shape=(12022,)),\n",
       " CurveItem(mnemonic=\"SFL\", unit=\"OHMM\", value=\"\", descr=\"17  SFL Resistivity Averaged over 2.5 Ft\", original_mnemonic=\"SFL\", data.shape=(12022,)),\n",
       " CurveItem(mnemonic=\"SGR\", unit=\"GAPI\", value=\"\", descr=\"18  Spectral Gamma-Ray\", original_mnemonic=\"SGR\", data.shape=(12022,)),\n",
       " CurveItem(mnemonic=\"SP\", unit=\"MV\", value=\"\", descr=\"19  Spontaneous Potential Log\", original_mnemonic=\"SP\", data.shape=(12022,)),\n",
       " CurveItem(mnemonic=\"THOR\", unit=\"\", value=\"\", descr=\"20  Thorium\", original_mnemonic=\"THOR\", data.shape=(12022,)),\n",
       " CurveItem(mnemonic=\"URAN\", unit=\"\", value=\"\", descr=\"21  Uranium\", original_mnemonic=\"URAN\", data.shape=(12022,)),\n",
       " CurveItem(mnemonic=\"GR\", unit=\"gamma_API_unit\", value=\"\", descr=\"7  Gamma-Ray Log\", original_mnemonic=\"GR\", data.shape=(12022,)),\n",
       " CurveItem(mnemonic=\"CALI\", unit=\"centimeter\", value=\"\", descr=\"3  Caliper Log\", original_mnemonic=\"CALI\", data.shape=(12022,)),\n",
       " CurveItem(mnemonic=\"CGR\", unit=\"gamma_API_unit\", value=\"\", descr=\"4  Computed Gamma-Ray (Thorium + Potassium)\", original_mnemonic=\"CGR\", data.shape=(12022,)),\n",
       " CurveItem(mnemonic=\"LLS\", unit=\"meter * ohm\", value=\"\", descr=\"11  Shallow Laterolog\", original_mnemonic=\"LLS\", data.shape=(12022,)),\n",
       " CurveItem(mnemonic=\"ILM\", unit=\"meter * ohm\", value=\"\", descr=\"9  Medium Induction Log\", original_mnemonic=\"ILM\", data.shape=(12022,)),\n",
       " CurveItem(mnemonic=\"ILD\", unit=\"meter * ohm\", value=\"\", descr=\"8  Induction Deep Resistivity\", original_mnemonic=\"ILD\", data.shape=(12022,)),\n",
       " CurveItem(mnemonic=\"LLD\", unit=\"meter * ohm\", value=\"\", descr=\"10  Laterolog Deep Resistivity\", original_mnemonic=\"LLD\", data.shape=(12022,)),\n",
       " CurveItem(mnemonic=\"NPHI\", unit=\"porosity_unit\", value=\"\", descr=\"13  Neutron Log Porosity\", original_mnemonic=\"NPHI\", data.shape=(12022,)),\n",
       " CurveItem(mnemonic=\"RHOB\", unit=\"gram / centimeter ** 3\", value=\"\", descr=\"16  Compensated Formation Density Log\", original_mnemonic=\"RHOB\", data.shape=(12022,)),\n",
       " CurveItem(mnemonic=\"DT\", unit=\"microsecond / foot\", value=\"\", descr=\"6  Delta T\", original_mnemonic=\"DT\", data.shape=(12022,)),\n",
       " CurveItem(mnemonic=\"IGR\", unit=\"of_1\", value=\"\", descr=\"\", original_mnemonic=\"IGR\", data.shape=(12022,)),\n",
       " CurveItem(mnemonic=\"STEIBER\", unit=\"of_1\", value=\"\", descr=\"\", original_mnemonic=\"STEIBER\", data.shape=(12022,)),\n",
       " CurveItem(mnemonic=\"CLAVIER\", unit=\"of_1\", value=\"\", descr=\"\", original_mnemonic=\"CLAVIER\", data.shape=(12022,)),\n",
       " CurveItem(mnemonic=\"LARINOV-TERTIARY \", unit=\"of_1\", value=\"\", descr=\"\", original_mnemonic=\"LARINOV-TERTIARY \", data.shape=(12022,)),\n",
       " CurveItem(mnemonic=\"LARINOV-OLD\", unit=\"of_1\", value=\"\", descr=\"\", original_mnemonic=\"LARINOV-OLD\", data.shape=(12022,))]"
      ]
     },
     "execution_count": 25,
     "metadata": {},
     "output_type": "execute_result"
    }
   ],
   "source": [
    "test_las_3.curves"
   ]
  },
  {
   "cell_type": "code",
   "execution_count": 26,
   "metadata": {},
   "outputs": [],
   "source": [
    "test_las_4 = graph_2.to_las(strategy=\"add\")"
   ]
  },
  {
   "cell_type": "code",
   "execution_count": 27,
   "metadata": {},
   "outputs": [
    {
     "data": {
      "text/plain": [
       "[CurveItem(mnemonic=\"DEPT:1\", unit=\"M\", value=\"\", descr=\"1  Depth\", original_mnemonic=\"DEPT\", data.shape=(12022,)),\n",
       " CurveItem(mnemonic=\"DEPT:2\", unit=\"M\", value=\"\", descr=\"2  Measured Depth\", original_mnemonic=\"DEPT\", data.shape=(12022,)),\n",
       " CurveItem(mnemonic=\"DRHO\", unit=\"G/C3\", value=\"\", descr=\"5  Density Log Correction\", original_mnemonic=\"DRHO\", data.shape=(12022,)),\n",
       " CurveItem(mnemonic=\"MSFL\", unit=\"OHMM\", value=\"\", descr=\"12  Micro Spherically Focused Log\", original_mnemonic=\"MSFL\", data.shape=(12022,)),\n",
       " CurveItem(mnemonic=\"PEF\", unit=\"\", value=\"\", descr=\"14  Photoelectric Factor\", original_mnemonic=\"PEF\", data.shape=(12022,)),\n",
       " CurveItem(mnemonic=\"POTA\", unit=\"\", value=\"\", descr=\"15  Potassium Concentration\", original_mnemonic=\"POTA\", data.shape=(12022,)),\n",
       " CurveItem(mnemonic=\"SFL\", unit=\"OHMM\", value=\"\", descr=\"17  SFL Resistivity Averaged over 2.5 Ft\", original_mnemonic=\"SFL\", data.shape=(12022,)),\n",
       " CurveItem(mnemonic=\"SGR\", unit=\"GAPI\", value=\"\", descr=\"18  Spectral Gamma-Ray\", original_mnemonic=\"SGR\", data.shape=(12022,)),\n",
       " CurveItem(mnemonic=\"SP\", unit=\"MV\", value=\"\", descr=\"19  Spontaneous Potential Log\", original_mnemonic=\"SP\", data.shape=(12022,)),\n",
       " CurveItem(mnemonic=\"THOR\", unit=\"\", value=\"\", descr=\"20  Thorium\", original_mnemonic=\"THOR\", data.shape=(12022,)),\n",
       " CurveItem(mnemonic=\"URAN\", unit=\"\", value=\"\", descr=\"21  Uranium\", original_mnemonic=\"URAN\", data.shape=(12022,)),\n",
       " CurveItem(mnemonic=\"GR:1\", unit=\"gamma_API_unit\", value=\"\", descr=\"7  Gamma-Ray Log\", original_mnemonic=\"GR\", data.shape=(12022,)),\n",
       " CurveItem(mnemonic=\"CALI:1\", unit=\"centimeter\", value=\"\", descr=\"3  Caliper Log\", original_mnemonic=\"CALI\", data.shape=(12022,)),\n",
       " CurveItem(mnemonic=\"CGR:1\", unit=\"gamma_API_unit\", value=\"\", descr=\"4  Computed Gamma-Ray (Thorium + Potassium)\", original_mnemonic=\"CGR\", data.shape=(12022,)),\n",
       " CurveItem(mnemonic=\"LLS:1\", unit=\"meter * ohm\", value=\"\", descr=\"11  Shallow Laterolog\", original_mnemonic=\"LLS\", data.shape=(12022,)),\n",
       " CurveItem(mnemonic=\"ILM:1\", unit=\"meter * ohm\", value=\"\", descr=\"9  Medium Induction Log\", original_mnemonic=\"ILM\", data.shape=(12022,)),\n",
       " CurveItem(mnemonic=\"ILD:1\", unit=\"meter * ohm\", value=\"\", descr=\"8  Induction Deep Resistivity\", original_mnemonic=\"ILD\", data.shape=(12022,)),\n",
       " CurveItem(mnemonic=\"LLD:1\", unit=\"meter * ohm\", value=\"\", descr=\"10  Laterolog Deep Resistivity\", original_mnemonic=\"LLD\", data.shape=(12022,)),\n",
       " CurveItem(mnemonic=\"NPHI:1\", unit=\"porosity_unit\", value=\"\", descr=\"13  Neutron Log Porosity\", original_mnemonic=\"NPHI\", data.shape=(12022,)),\n",
       " CurveItem(mnemonic=\"RHOB:1\", unit=\"gram / centimeter ** 3\", value=\"\", descr=\"16  Compensated Formation Density Log\", original_mnemonic=\"RHOB\", data.shape=(12022,)),\n",
       " CurveItem(mnemonic=\"DT:1\", unit=\"microsecond / foot\", value=\"\", descr=\"6  Delta T\", original_mnemonic=\"DT\", data.shape=(12022,)),\n",
       " CurveItem(mnemonic=\"IGR:1\", unit=\"of_1\", value=\"\", descr=\"\", original_mnemonic=\"IGR\", data.shape=(12022,)),\n",
       " CurveItem(mnemonic=\"STEIBER:1\", unit=\"of_1\", value=\"\", descr=\"\", original_mnemonic=\"STEIBER\", data.shape=(12022,)),\n",
       " CurveItem(mnemonic=\"CLAVIER:1\", unit=\"of_1\", value=\"\", descr=\"\", original_mnemonic=\"CLAVIER\", data.shape=(12022,)),\n",
       " CurveItem(mnemonic=\"LARINOV-TERTIARY :1\", unit=\"of_1\", value=\"\", descr=\"\", original_mnemonic=\"LARINOV-TERTIARY \", data.shape=(12022,)),\n",
       " CurveItem(mnemonic=\"LARINOV-OLD:1\", unit=\"of_1\", value=\"\", descr=\"\", original_mnemonic=\"LARINOV-OLD\", data.shape=(12022,)),\n",
       " CurveItem(mnemonic=\"GR:2\", unit=\"gamma_API_unit\", value=\"\", descr=\"7  Gamma-Ray Log\", original_mnemonic=\"GR\", data.shape=(12022,)),\n",
       " CurveItem(mnemonic=\"CALI:2\", unit=\"centimeter\", value=\"\", descr=\"3  Caliper Log\", original_mnemonic=\"CALI\", data.shape=(12022,)),\n",
       " CurveItem(mnemonic=\"CGR:2\", unit=\"gamma_API_unit\", value=\"\", descr=\"4  Computed Gamma-Ray (Thorium + Potassium)\", original_mnemonic=\"CGR\", data.shape=(12022,)),\n",
       " CurveItem(mnemonic=\"LLS:2\", unit=\"meter * ohm\", value=\"\", descr=\"11  Shallow Laterolog\", original_mnemonic=\"LLS\", data.shape=(12022,)),\n",
       " CurveItem(mnemonic=\"ILM:2\", unit=\"meter * ohm\", value=\"\", descr=\"9  Medium Induction Log\", original_mnemonic=\"ILM\", data.shape=(12022,)),\n",
       " CurveItem(mnemonic=\"ILD:2\", unit=\"meter * ohm\", value=\"\", descr=\"8  Induction Deep Resistivity\", original_mnemonic=\"ILD\", data.shape=(12022,)),\n",
       " CurveItem(mnemonic=\"LLD:2\", unit=\"meter * ohm\", value=\"\", descr=\"10  Laterolog Deep Resistivity\", original_mnemonic=\"LLD\", data.shape=(12022,)),\n",
       " CurveItem(mnemonic=\"NPHI:2\", unit=\"porosity_unit\", value=\"\", descr=\"13  Neutron Log Porosity\", original_mnemonic=\"NPHI\", data.shape=(12022,)),\n",
       " CurveItem(mnemonic=\"RHOB:2\", unit=\"gram / centimeter ** 3\", value=\"\", descr=\"16  Compensated Formation Density Log\", original_mnemonic=\"RHOB\", data.shape=(12022,)),\n",
       " CurveItem(mnemonic=\"DT:2\", unit=\"microsecond / foot\", value=\"\", descr=\"6  Delta T\", original_mnemonic=\"DT\", data.shape=(12022,)),\n",
       " CurveItem(mnemonic=\"IGR:2\", unit=\"of_1\", value=\"\", descr=\"\", original_mnemonic=\"IGR\", data.shape=(12022,)),\n",
       " CurveItem(mnemonic=\"STEIBER:2\", unit=\"of_1\", value=\"\", descr=\"\", original_mnemonic=\"STEIBER\", data.shape=(12022,)),\n",
       " CurveItem(mnemonic=\"CLAVIER:2\", unit=\"of_1\", value=\"\", descr=\"\", original_mnemonic=\"CLAVIER\", data.shape=(12022,)),\n",
       " CurveItem(mnemonic=\"LARINOV-TERTIARY :2\", unit=\"of_1\", value=\"\", descr=\"\", original_mnemonic=\"LARINOV-TERTIARY \", data.shape=(12022,)),\n",
       " CurveItem(mnemonic=\"LARINOV-OLD:2\", unit=\"of_1\", value=\"\", descr=\"\", original_mnemonic=\"LARINOV-OLD\", data.shape=(12022,))]"
      ]
     },
     "execution_count": 27,
     "metadata": {},
     "output_type": "execute_result"
    }
   ],
   "source": [
    "test_las_4.curves"
   ]
  }
 ],
 "metadata": {
  "kernelspec": {
   "display_name": "pozo-ney",
   "language": "python",
   "name": "python3"
  },
  "language_info": {
   "codemirror_mode": {
    "name": "ipython",
    "version": 3
   },
   "file_extension": ".py",
   "mimetype": "text/x-python",
   "name": "python",
   "nbconvert_exporter": "python",
   "pygments_lexer": "ipython3",
   "version": "3.12.2"
  }
 },
 "nbformat": 4,
 "nbformat_minor": 2
}
