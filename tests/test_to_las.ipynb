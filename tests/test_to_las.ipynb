{
 "cells": [
  {
   "cell_type": "code",
   "execution_count": null,
   "metadata": {},
   "outputs": [],
   "source": [
    "import lasio\n",
    "import pozo\n",
    "import numpy as np"
   ]
  },
  {
   "cell_type": "code",
   "execution_count": null,
   "metadata": {},
   "outputs": [],
   "source": [
    "las = lasio.read(\"https://raw.githubusercontent.com/geopozo/pozo-demo/main/SALADIN.LAS\")"
   ]
  },
  {
   "cell_type": "code",
   "execution_count": null,
   "metadata": {},
   "outputs": [],
   "source": [
    "include = [\"GR\", \"CALI\", \"CGR\", \"LLS\", \"ILM\", \"ILD\", \"LLD\", \"NPHI\", \"RHOB\", \"DT\"]\n",
    "graph1 = pozo.Graph(las,  yaxis_name=\"DEPT:1\", include=include) \n",
    "graph1.combine_tracks(\"CGR\", \"CALI\")\n",
    "graph1.combine_tracks(\"LLD\",\"ILD\",\"ILM\",\"LLS\") \n",
    "graph1.combine_tracks(\"RHOB\", \"NPHI\")\n",
    "new_data = np.ones(len(graph1.get_trace(0).get_depth()))\n",
    "graph1.add_tracks(pozo.Trace(new_data, unit=\"ohm\", depth=graph1.get_trace(0).get_depth(), depth_unit=graph1.get_trace(0).get_depth_unit(), mnemonic=\"TEST\"))"
   ]
  },
  {
   "cell_type": "code",
   "execution_count": null,
   "metadata": {},
   "outputs": [],
   "source": [
    "graph1.to_las_CurveItems(\"LLD\")"
   ]
  },
  {
   "cell_type": "code",
   "execution_count": null,
   "metadata": {},
   "outputs": [],
   "source": [
    "graph1.to_las_CurveItems(\"DT\", \"GR\", description=[\"6  Delta T\", \"7  Gamma-Ray Log\"], units=[\"microsecond / foot\", \"gamma_API_unit\"])"
   ]
  },
  {
   "cell_type": "code",
   "execution_count": null,
   "metadata": {},
   "outputs": [],
   "source": [
    "graph1.to_las_CurveItems()"
   ]
  },
  {
   "cell_type": "code",
   "execution_count": null,
   "metadata": {},
   "outputs": [],
   "source": [
    "graph1.to_las().header"
   ]
  },
  {
   "cell_type": "code",
   "execution_count": null,
   "metadata": {},
   "outputs": [],
   "source": [
    "las_1 = lasio.read(\"https://raw.githubusercontent.com/geopozo/pozo-demo/main/SALADIN.LAS\")\n",
    "graph1.to_las(template=las_1, strategy=\"merge\").header"
   ]
  },
  {
   "cell_type": "code",
   "execution_count": null,
   "metadata": {},
   "outputs": [],
   "source": [
    "las_2 = lasio.read(\"https://raw.githubusercontent.com/geopozo/pozo-demo/main/SALADIN.LAS\")\n",
    "las_1.header"
   ]
  },
  {
   "cell_type": "code",
   "execution_count": null,
   "metadata": {},
   "outputs": [],
   "source": [
    "las_2 = lasio.read(\"https://raw.githubusercontent.com/geopozo/pozo-demo/main/SALADIN.LAS\")\n",
    "graph1.to_las(template=las_2, strategy=\"add\").header"
   ]
  },
  {
   "cell_type": "code",
   "execution_count": null,
   "metadata": {},
   "outputs": [],
   "source": [
    "las_3 = lasio.read(\"https://raw.githubusercontent.com/geopozo/pozo-demo/main/SALADIN.LAS\")\n",
    "graph1.to_las(template=las_3, strategy=\"pozo-only\").header\n"
   ]
  }
 ],
 "metadata": {
  "kernelspec": {
   "display_name": "fft_sandbox",
   "language": "python",
   "name": "fft_sandbox"
  },
  "language_info": {
   "codemirror_mode": {
    "name": "ipython",
    "version": 3
   },
   "file_extension": ".py",
   "mimetype": "text/x-python",
   "name": "python",
   "nbconvert_exporter": "python",
   "pygments_lexer": "ipython3",
   "version": "3.11.8"
  }
 },
 "nbformat": 4,
 "nbformat_minor": 4
}
